{
 "cells": [
  {
   "cell_type": "markdown",
   "metadata": {},
   "source": [
    "#### 정규 표현식\n",
    "- 특정한 패턴과 일치하는 문자열을 검색, 치환, 제거하는 기능을 지원\n",
    "- re 모듈 사용\n",
    "    - match(), search(), findall(), finditer()....\n",
    "    - [a-zA-Z] : 모든 문자 패턴\n",
    "    - . : \\n을 제외한 모든 문자\n",
    "    - * : 0 ~ 무한대\n",
    "    - + : 1 ~ 무한대\n",
    "    - ? : 0 ~ 1"
   ]
  },
  {
   "cell_type": "code",
   "execution_count": 4,
   "metadata": {},
   "outputs": [
    {
     "name": "stdout",
     "output_type": "stream",
     "text": [
      "<re.Match object; span=(0, 3), match='DAA'>\n",
      "패턴 시작 위치  0\n",
      "패턴 끝 위치  3\n",
      "re와 일치하는 문자열 반환  DAA\n",
      "패턴 위치  (0, 3)\n"
     ]
    }
   ],
   "source": [
    "import re\n",
    "\n",
    "# 검색할 패턴 작성\n",
    "# 시작은 D, 끝은 A, 가운데 문자는 모든것\n",
    "pattern = re.compile(\"D.A\")\n",
    "\n",
    "# 원본 문자열\n",
    "origin = \"DAA\"\n",
    "\n",
    "# 원본 문자열과 패턴 일치 여부\n",
    "result = pattern.search(origin)\n",
    "print(result)\n",
    "\n",
    "print(\"패턴 시작 위치 \", result.start())\n",
    "print(\"패턴 끝 위치 \", result.end())\n",
    "print(\"re와 일치하는 문자열 반환 \", result.group())\n",
    "print(\"패턴 위치 \", result.span())"
   ]
  },
  {
   "cell_type": "code",
   "execution_count": 3,
   "metadata": {},
   "outputs": [],
   "source": [
    "origin = \"D00A\"\n",
    "result = pattern.search(origin)\n",
    "result"
   ]
  },
  {
   "cell_type": "code",
   "execution_count": 5,
   "metadata": {},
   "outputs": [
    {
     "data": {
      "text/plain": [
       "<re.Match object; span=(4, 7), match='D1A'>"
      ]
     },
     "execution_count": 5,
     "metadata": {},
     "output_type": "execute_result"
    }
   ],
   "source": [
    "origin = \"d0A D1A 0111\"\n",
    "result = pattern.search(origin)\n",
    "result"
   ]
  },
  {
   "cell_type": "code",
   "execution_count": 6,
   "metadata": {},
   "outputs": [
    {
     "data": {
      "text/plain": [
       "<re.Match object; span=(0, 3), match='DAA'>"
      ]
     },
     "execution_count": 6,
     "metadata": {},
     "output_type": "execute_result"
    }
   ],
   "source": [
    "re.search(r\"D.A\",\"DAA\")"
   ]
  },
  {
   "cell_type": "code",
   "execution_count": 7,
   "metadata": {},
   "outputs": [
    {
     "name": "stdout",
     "output_type": "stream",
     "text": [
      "<re.Match object; span=(0, 1), match='A'>\n",
      "<re.Match object; span=(0, 2), match='DA'>\n",
      "<re.Match object; span=(0, 1), match='A'>\n"
     ]
    }
   ],
   "source": [
    "pattern = re.compile(\"D?A\") # D가 최소 0 최대 1개까지 가능, A문자가 뒤에 있어야함\n",
    "print(pattern.search(\"A\"))\n",
    "print(pattern.search(\"DA\"))\n",
    "print(pattern.search(\"AA\"))"
   ]
  },
  {
   "cell_type": "code",
   "execution_count": 9,
   "metadata": {},
   "outputs": [
    {
     "name": "stdout",
     "output_type": "stream",
     "text": [
      "<re.Match object; span=(0, 1), match='A'>\n",
      "<re.Match object; span=(0, 2), match='DA'>\n",
      "<re.Match object; span=(0, 39), match='DDDDDDDDDDDDDDDDDDDDDDDDDDDDDDDDDDDDDDA'>\n"
     ]
    }
   ],
   "source": [
    "pattern = re.compile(\"D*A\") # D가 최소 0 최대 무한대까지 가능, A문자가 뒤에 있어야함\n",
    "print(pattern.search(\"A\"))\n",
    "print(pattern.search(\"DA\"))\n",
    "print(pattern.search(\"DDDDDDDDDDDDDDDDDDDDDDDDDDDDDDDDDDDDDDAA\"))"
   ]
  },
  {
   "cell_type": "code",
   "execution_count": 10,
   "metadata": {},
   "outputs": [
    {
     "name": "stdout",
     "output_type": "stream",
     "text": [
      "None\n",
      "<re.Match object; span=(0, 2), match='DA'>\n",
      "<re.Match object; span=(0, 39), match='DDDDDDDDDDDDDDDDDDDDDDDDDDDDDDDDDDDDDDA'>\n"
     ]
    }
   ],
   "source": [
    "pattern = re.compile(\"D+A\") # D가 최소 1 최대 무한대까지 가능, A문자가 뒤에 있어야함\n",
    "print(pattern.search(\"A\"))\n",
    "print(pattern.search(\"DA\"))\n",
    "print(pattern.search(\"DDDDDDDDDDDDDDDDDDDDDDDDDDDDDDDDDDDDDDAA\"))"
   ]
  },
  {
   "cell_type": "code",
   "execution_count": 11,
   "metadata": {},
   "outputs": [
    {
     "name": "stdout",
     "output_type": "stream",
     "text": [
      "None\n",
      "<re.Match object; span=(0, 4), match='ADDA'>\n",
      "None\n"
     ]
    }
   ],
   "source": [
    "pattern = re.compile(\"AD{2}A\") # D가 2개 있어야함\n",
    "print(pattern.search(\"ADA\"))\n",
    "print(pattern.search(\"ADDA\"))\n",
    "print(pattern.search(\"ADDDDDDDDDDDDDDDDDDDDDDDDDDDDDDDDDDDDDDAA\"))"
   ]
  },
  {
   "cell_type": "code",
   "execution_count": 13,
   "metadata": {},
   "outputs": [
    {
     "name": "stdout",
     "output_type": "stream",
     "text": [
      "None\n",
      "<re.Match object; span=(0, 4), match='ADDA'>\n",
      "<re.Match object; span=(0, 8), match='ADDDDDDA'>\n"
     ]
    }
   ],
   "source": [
    "pattern = re.compile(\"AD{2,6}A\") # D가 최소2개, 최대6개\n",
    "print(pattern.search(\"ADA\"))\n",
    "print(pattern.search(\"ADDA\"))\n",
    "print(pattern.search(\"ADDDDDDAA\"))"
   ]
  },
  {
   "cell_type": "code",
   "execution_count": 14,
   "metadata": {},
   "outputs": [
    {
     "name": "stdout",
     "output_type": "stream",
     "text": [
      "<re.Match object; span=(0, 1), match='a'>\n",
      "<re.Match object; span=(0, 1), match='A'>\n"
     ]
    }
   ],
   "source": [
    "pattern = re.compile(\"[ABCDEFGabcdefg]\")\n",
    "print(pattern.search(\"aa1234\"))\n",
    "print(pattern.search(\"A4567\"))"
   ]
  },
  {
   "cell_type": "code",
   "execution_count": 15,
   "metadata": {},
   "outputs": [
    {
     "name": "stdout",
     "output_type": "stream",
     "text": [
      "<re.Match object; span=(0, 1), match='a'>\n",
      "<re.Match object; span=(0, 1), match='A'>\n"
     ]
    }
   ],
   "source": [
    "pattern = re.compile(\"[A-Ga-g]\")\n",
    "print(pattern.search(\"aa1234\"))\n",
    "print(pattern.search(\"A4567\"))"
   ]
  },
  {
   "cell_type": "code",
   "execution_count": 16,
   "metadata": {},
   "outputs": [
    {
     "name": "stdout",
     "output_type": "stream",
     "text": [
      "<re.Match object; span=(0, 2), match='aa'>\n",
      "<re.Match object; span=(0, 1), match='A'>\n"
     ]
    }
   ],
   "source": [
    "pattern = re.compile(\"[A-Ga-g]+\")\n",
    "print(pattern.search(\"aa1234\"))\n",
    "print(pattern.search(\"A4567\"))"
   ]
  },
  {
   "cell_type": "code",
   "execution_count": 18,
   "metadata": {},
   "outputs": [
    {
     "name": "stdout",
     "output_type": "stream",
     "text": [
      "<re.Match object; span=(0, 6), match='aa1234'>\n",
      "<re.Match object; span=(0, 5), match='A4567'>\n"
     ]
    }
   ],
   "source": [
    "pattern = re.compile(\"[A-ZGa-z0-9]+\")\n",
    "print(pattern.search(\"aa1234\"))\n",
    "print(pattern.search(\"A4567\"))"
   ]
  },
  {
   "cell_type": "code",
   "execution_count": 20,
   "metadata": {},
   "outputs": [
    {
     "name": "stdout",
     "output_type": "stream",
     "text": [
      "<re.Match object; span=(6, 11), match='!@#$%'>\n",
      "None\n"
     ]
    }
   ],
   "source": [
    "# [^찾을패턴] : 찾을 패턴이 아닌 것\n",
    "pattern = re.compile(\"[^A-ZGa-z0-9]+\")\n",
    "print(pattern.search(\"aa1234!@#$%\"))\n",
    "print(pattern.search(\"A4567\"))"
   ]
  },
  {
   "cell_type": "code",
   "execution_count": 22,
   "metadata": {},
   "outputs": [
    {
     "name": "stdout",
     "output_type": "stream",
     "text": [
      "<re.Match object; span=(11, 15), match='대한민국'>\n",
      "<re.Match object; span=(9, 13), match='가나다라'>\n"
     ]
    }
   ],
   "source": [
    "pattern = re.compile(\"[가-힣]+\")\n",
    "print(pattern.search(\"aa1234!@#$%대한민국\"))\n",
    "print(pattern.search(\"A45sdfsdf가나다라67\"))"
   ]
  },
  {
   "cell_type": "code",
   "execution_count": 23,
   "metadata": {},
   "outputs": [
    {
     "name": "stdout",
     "output_type": "stream",
     "text": [
      "<re.Match object; span=(0, 2), match='aa'>\n",
      "<re.Match object; span=(0, 2), match='aa'>\n"
     ]
    }
   ],
   "source": [
    "pattern = re.compile(\"[a-z]+\")\n",
    "print(pattern.search(\"aa1234!@#$%대한민국\"))\n",
    "print(pattern.match(\"aa1234!@#$%대한민국\"))"
   ]
  },
  {
   "cell_type": "code",
   "execution_count": 24,
   "metadata": {},
   "outputs": [
    {
     "name": "stdout",
     "output_type": "stream",
     "text": [
      "Dave Dave Dave DA\n"
     ]
    }
   ],
   "source": [
    "origin = \"DDA D1A DDA DA\"\n",
    "# sub(패턴, 바꿀문자열, 원본문자열)\n",
    "print(re.sub(\"D.A\",\"Dave\",origin))"
   ]
  },
  {
   "cell_type": "code",
   "execution_count": null,
   "metadata": {},
   "outputs": [],
   "source": []
  }
 ],
 "metadata": {
  "kernelspec": {
   "display_name": "venv",
   "language": "python",
   "name": "python3"
  },
  "language_info": {
   "codemirror_mode": {
    "name": "ipython",
    "version": 3
   },
   "file_extension": ".py",
   "mimetype": "text/x-python",
   "name": "python",
   "nbconvert_exporter": "python",
   "pygments_lexer": "ipython3",
   "version": "3.12.3"
  }
 },
 "nbformat": 4,
 "nbformat_minor": 2
}
