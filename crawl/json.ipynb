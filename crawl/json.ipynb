{
 "cells": [
  {
   "cell_type": "code",
   "execution_count": 5,
   "metadata": {},
   "outputs": [
    {
     "name": "stdout",
     "output_type": "stream",
     "text": [
      "{'id': 'hong', 'language': 'python', 'edition': '3.5', 'author': 'Guido van Rossum'}\n",
      "hong\n",
      "hong\n",
      "id hong\n",
      "language python\n",
      "edition 3.5\n",
      "author Guido van Rossum\n"
     ]
    }
   ],
   "source": [
    "import json\n",
    "\n",
    "data = '{\"id\":\"hong\",\"language\":\"python\",\"edition\":\"3.5\",\"author\":\"Guido van Rossum\"}'\n",
    "\n",
    "# type(data)\n",
    "# loads(str) ==> dict\n",
    "json_data = json.loads(data)\n",
    "print(json_data)\n",
    "print(json_data['id'])\n",
    "print(json_data.get('id'))\n",
    "\n",
    "for k,v in json_data.items():\n",
    "    print(k,v)"
   ]
  },
  {
   "cell_type": "code",
   "execution_count": 9,
   "metadata": {},
   "outputs": [
    {
     "name": "stdout",
     "output_type": "stream",
     "text": [
      "<class 'dict'>\n",
      "<class 'str'>\n",
      "{\"id\": \"hong\", \"language\": \"python\", \"edition\": \"3.5\", \"author\": \"Guido van Rossum\"}\n"
     ]
    }
   ],
   "source": [
    "data = {\"id\":\"hong\",\"language\":\"python\",\"edition\":\"3.5\",\"author\":\"Guido van Rossum\"}\n",
    "print(type(data))\n",
    "\n",
    "# dumps(json) ==> str\n",
    "json_data = json.dumps(data)\n",
    "\n",
    "print(type(json_data))\n",
    "print(json_data)"
   ]
  },
  {
   "cell_type": "code",
   "execution_count": 10,
   "metadata": {},
   "outputs": [],
   "source": [
    "data = {\"id\":\"hong\",\"language\":\"python\",\"edition\":\"3.5\",\"author\":\"Guido van Rossum\"}\n",
    "\n",
    "# dump(dict) ==> json\n",
    "\n",
    "with open(\"./download/test.json\", \"w\", encoding=\"utf-8\") as f:\n",
    "    json.dump(data, f, indent=2)"
   ]
  },
  {
   "cell_type": "code",
   "execution_count": 11,
   "metadata": {},
   "outputs": [
    {
     "name": "stdout",
     "output_type": "stream",
     "text": [
      "{'id': 'hong', 'language': 'python', 'edition': '3.5', 'author': 'Guido van Rossum'}\n"
     ]
    }
   ],
   "source": [
    "# load(json) ==> dictionary로 읽어옴\n",
    "with open(\"./download/test.json\", \"r\", encoding=\"utf-8\") as f:\n",
    "    print(json.load(f))"
   ]
  },
  {
   "cell_type": "code",
   "execution_count": 26,
   "metadata": {},
   "outputs": [
    {
     "name": "stdout",
     "output_type": "stream",
     "text": [
      "youtube#videoCategory Film & Animation\n",
      "youtube#videoCategory Autos & Vehicles\n",
      "youtube#videoCategory Music\n",
      "youtube#videoCategory Pets & Animals\n",
      "youtube#videoCategory Sports\n",
      "youtube#videoCategory Short Movies\n",
      "youtube#videoCategory Travel & Events\n",
      "youtube#videoCategory Gaming\n",
      "youtube#videoCategory Videoblogging\n",
      "youtube#videoCategory People & Blogs\n",
      "youtube#videoCategory Comedy\n",
      "youtube#videoCategory Entertainment\n",
      "youtube#videoCategory News & Politics\n",
      "youtube#videoCategory Howto & Style\n",
      "youtube#videoCategory Education\n",
      "youtube#videoCategory Science & Technology\n",
      "youtube#videoCategory Nonprofits & Activism\n",
      "youtube#videoCategory Movies\n",
      "youtube#videoCategory Anime/Animation\n",
      "youtube#videoCategory Action/Adventure\n",
      "youtube#videoCategory Classics\n",
      "youtube#videoCategory Comedy\n",
      "youtube#videoCategory Documentary\n",
      "youtube#videoCategory Drama\n",
      "youtube#videoCategory Family\n",
      "youtube#videoCategory Foreign\n",
      "youtube#videoCategory Horror\n",
      "youtube#videoCategory Sci-Fi/Fantasy\n",
      "youtube#videoCategory Thriller\n",
      "youtube#videoCategory Shorts\n",
      "youtube#videoCategory Shows\n",
      "youtube#videoCategory Trailers\n"
     ]
    }
   ],
   "source": [
    "with open(\"./download/US_category_id.json\", \"r\", encoding=\"utf-8\") as f:\n",
    "    \n",
    "    json_data = json.load(f)\n",
    "    # print(json_data['items'])\n",
    "    for item in json_data['items']:\n",
    "        print(item['kind'], item['snippet']['title'])\n",
    "        "
   ]
  },
  {
   "cell_type": "code",
   "execution_count": null,
   "metadata": {},
   "outputs": [],
   "source": []
  }
 ],
 "metadata": {
  "kernelspec": {
   "display_name": "venv",
   "language": "python",
   "name": "python3"
  },
  "language_info": {
   "codemirror_mode": {
    "name": "ipython",
    "version": 3
   },
   "file_extension": ".py",
   "mimetype": "text/x-python",
   "name": "python",
   "nbconvert_exporter": "python",
   "pygments_lexer": "ipython3",
   "version": "3.12.3"
  }
 },
 "nbformat": 4,
 "nbformat_minor": 2
}
