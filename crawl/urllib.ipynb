{
 "cells": [
  {
   "cell_type": "markdown",
   "metadata": {},
   "source": [
    "### 파이썬 기본 라이브러리 사용\n",
    "- urllib 이용\n",
    "   - request : 요청"
   ]
  },
  {
   "cell_type": "code",
   "execution_count": 1,
   "metadata": {},
   "outputs": [],
   "source": [
    "import urllib.request as req"
   ]
  },
  {
   "cell_type": "code",
   "execution_count": 4,
   "metadata": {},
   "outputs": [
    {
     "name": "stdout",
     "output_type": "stream",
     "text": [
      "./download/google.html\n",
      "\n",
      "Date: Wed, 22 May 2024 03:40:45 GMT\n",
      "Expires: -1\n",
      "Cache-Control: private, max-age=0\n",
      "Content-Type: text/html; charset=ISO-8859-1\n",
      "Content-Security-Policy-Report-Only: object-src 'none';base-uri 'self';script-src 'nonce-6SeS_4QjMjTIKaX1kT_9Uw' 'strict-dynamic' 'report-sample' 'unsafe-eval' 'unsafe-inline' https: http:;report-uri https://csp.withgoogle.com/csp/gws/other-hp\n",
      "P3P: CP=\"This is not a P3P policy! See g.co/p3phelp for more info.\"\n",
      "Server: gws\n",
      "X-XSS-Protection: 0\n",
      "X-Frame-Options: SAMEORIGIN\n",
      "Set-Cookie: AEC=AQTF6HzZ8kwx-WWp0L3n64tBEUPzjdHQxKm2_1pzvbf4n5U6X5VXTm8ZpQ; expires=Mon, 18-Nov-2024 03:40:45 GMT; path=/; domain=.google.com; Secure; HttpOnly; SameSite=lax\n",
      "Set-Cookie: NID=514=eCja4IVA96DyGfyb36zi03SGuXXLSp_4fPXja7DpqIJJnOAB4hd747X-ObptgCk2WvTq40lD2juTi1EnnYEiWBXxR43TlRRCpLd6PRI6_prMtfo5rTrp98jYnuSiB_0ec5yAWTp_pcJHKOMKKgJ7KcR1xDH4mTz71OwBexY1p8I; expires=Thu, 21-Nov-2024 03:40:45 GMT; path=/; domain=.google.com; HttpOnly\n",
      "Alt-Svc: h3=\":443\"; ma=2592000,h3-29=\":443\"; ma=2592000\n",
      "Accept-Ranges: none\n",
      "Vary: Accept-Encoding\n",
      "Connection: close\n",
      "Transfer-Encoding: chunked\n",
      "\n",
      "\n"
     ]
    }
   ],
   "source": [
    "url = \"https://www.google.com/\"\n",
    "\n",
    "save_path = \"./download/google.html\"\n",
    "\n",
    "# urlretrieve(요청주소, 저장할 파일 이름) : 요청한 url의 정보를 로컬 파일로 저장\n",
    "# tuple로 결과가 반환됨\n",
    "# csv 파일, api 데이터 요청 시 사용\n",
    "\n",
    "file1, header1 = req.urlretrieve(url, save_path)\n",
    "print(file1)\n",
    "print()\n",
    "print(header1)"
   ]
  },
  {
   "cell_type": "code",
   "execution_count": 6,
   "metadata": {},
   "outputs": [],
   "source": [
    "img_url = \"https://search.pstatic.net/common/?src=http%3A%2F%2Fblogfiles.naver.net%2FMjAyMzEyMjdfMTA1%2FMDAxNzAzNjYyMjg4MDQz.sJvE_4lC7aSvn2qNjDFqck8-QvTYqEjjFQ4Wy-idGNQg.51a80329ezIx2HeuIMF2C44V5mkqzWj_vfntWtvzELcg.JPEG.animalandhuman%2FGettyImages-491143647.jpg&type=a340\"\n",
    "html_url = \"https://www.naver.com\"\n",
    "\n",
    "img_save_path = \"./download/cat.png\"\n",
    "html_save_path = \"./download/naver.html\"\n",
    "\n",
    "file1, header1 = req.urlretrieve(img_url, img_save_path)\n",
    "file2, header2 = req.urlretrieve(html_url, html_save_path)\n",
    "\n"
   ]
  },
  {
   "cell_type": "code",
   "execution_count": null,
   "metadata": {},
   "outputs": [],
   "source": []
  }
 ],
 "metadata": {
  "kernelspec": {
   "display_name": "venv",
   "language": "python",
   "name": "python3"
  },
  "language_info": {
   "codemirror_mode": {
    "name": "ipython",
    "version": 3
   },
   "file_extension": ".py",
   "mimetype": "text/x-python",
   "name": "python",
   "nbconvert_exporter": "python",
   "pygments_lexer": "ipython3",
   "version": "3.12.3"
  }
 },
 "nbformat": 4,
 "nbformat_minor": 2
}
