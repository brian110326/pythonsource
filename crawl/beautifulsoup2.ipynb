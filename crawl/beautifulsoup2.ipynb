{
 "cells": [
  {
   "cell_type": "code",
   "execution_count": 1,
   "metadata": {},
   "outputs": [],
   "source": [
    "import requests\n",
    "from bs4 import BeautifulSoup"
   ]
  },
  {
   "cell_type": "code",
   "execution_count": 5,
   "metadata": {},
   "outputs": [
    {
     "name": "stdout",
     "output_type": "stream",
     "text": [
      "<p class=\"title\">\n",
      "<b> The Dormouse's story </b>\n",
      "</p>\n",
      "<a class=\"sister\" href=\"http://example.com/elsie\" id=\"link1\">Elsie</a>\n"
     ]
    }
   ],
   "source": [
    "# css select 사용\n",
    "# select() : 전체 요소\n",
    "# select_one() : 하나의 요소\n",
    "\n",
    "url = \"./story.html\"\n",
    "\n",
    "with open(url, \"r\") as f:\n",
    "    r = f.read()\n",
    "    soup = BeautifulSoup(r, \"lxml\")\n",
    "\n",
    "    title = soup.select_one(\"p.title\")\n",
    "    print(title)\n",
    "\n",
    "    link1 = soup.select_one(\"#link1\")\n",
    "    print(link1)"
   ]
  },
  {
   "cell_type": "code",
   "execution_count": 13,
   "metadata": {},
   "outputs": [
    {
     "name": "stdout",
     "output_type": "stream",
     "text": [
      "<a class=\"sister\" href=\"http://example.com/elsie\" id=\"link1\">Elsie</a>\n",
      "<a class=\"sister\" href=\"http://example.com/lacie\" id=\"link2\">Lacie</a>\n",
      "<a class=\"sister\" href=\"http://example.com/tillie\" id=\"link3\">Tillie</a>\n"
     ]
    }
   ],
   "source": [
    "url = \"./story.html\"\n",
    "\n",
    "with open(url, \"r\") as f:\n",
    "    r = f.read()\n",
    "    soup = BeautifulSoup(r, \"lxml\")\n",
    "\n",
    "    stories = soup.select(\"p.story > a\")\n",
    "    for story in stories:\n",
    "        print(story)\n",
    "        #print(story.string)"
   ]
  },
  {
   "cell_type": "code",
   "execution_count": 18,
   "metadata": {},
   "outputs": [
    {
     "name": "stdout",
     "output_type": "stream",
     "text": [
      "===== <a class=\"sister\" href=\"http://example.com/elsie\" id=\"link1\">Elsie</a>\n",
      "===== Elsie\n",
      "===== <a class=\"sister\" href=\"http://example.com/lacie\" id=\"link2\">Lacie</a>\n",
      "===== Lacie\n",
      "===== <a class=\"sister\" href=\"http://example.com/tillie\" id=\"link3\">Tillie</a>\n",
      "===== Tillie\n",
      "===>  <p class=\"story\">...</p>\n",
      "===>  ...\n"
     ]
    }
   ],
   "source": [
    "url = \"./story.html\"\n",
    "\n",
    "with open(url, \"r\") as f:\n",
    "    r = f.read()\n",
    "    soup = BeautifulSoup(r, \"lxml\")\n",
    "\n",
    "    stories = soup.select(\"p.story\")\n",
    "    # print(stories)\n",
    "\n",
    "    for story in stories:\n",
    "        temp = story.find_all(\"a\")\n",
    "\n",
    "        if temp:\n",
    "            for v in temp:\n",
    "                print(\"=====\", v)\n",
    "                print(\"=====\", v.string)\n",
    "        else:\n",
    "            print(\"===> \", story)\n",
    "            print(\"===> \", story.string)\n",
    "        "
   ]
  },
  {
   "cell_type": "code",
   "execution_count": 31,
   "metadata": {},
   "outputs": [
    {
     "name": "stdout",
     "output_type": "stream",
     "text": [
      "'손흥민의 힘'인가, 토트넘이 아스널을 제쳤다, 영국이 놀랐다!…구단 가치 '4조3790억'+전세계 8위\n",
      "나승우 기자\n",
      "2024. 5. 24. 10:46\n",
      "(엑스포츠뉴스 나승우 기자) 우승컵 하나 없어도 전 세계 8위가 될 수 있다. 토트넘 홋스퍼가 첼시, 아스널 등 라이벌들을 제치고 전 세계 구단 가치 8위에 올랐다.\n",
      "미국 포브스는 23일(한국시간) \"유럽 전역의 TV 중계 역풍에도 불구하고 팀 형균 자산 가치는 23억 달러(약 3조 1475억원)로 지난해보다 5.1% 증가했다\"라며 전 세계 구단 가치 TOP 10을 공개했다.\n",
      "세계 최고의 명문 레알 마드리드(스페인)가 66억 달러(약 9조321억원)로 1위에 오른 가운데 손흥민이 뛰고 있는 토트넘은 8위에 해당하는 것으로 나타났다.\n",
      "매체에 따르면 토트넘의 구단 가치는 32억 달러(약 4조3792억원)로 지난해에 비해 14%나 올랐다. 영업 이익은 1억 6100만 달러(약 2203억원)였다.\n",
      "44억 달러(약 6조214억원)의 파리 생제르맹(PSG) 뒤를 이은 것으로 런던 라이벌 아스널, 첼시를 모두 제쳤다. 첼시가 31억 달러(약 4조2423억원)로 9위, 아스널은 26억 달러(약 3조 5581억원)로 10위였다.\n",
      "프리미어리그 팀 중에서는 맨체스터 유나이티드가 65억 5000만 달러(약 8조9636억원)로 전 세계 2위에 올라 가장 높았다. 맨유는 레알과 함께 60억 달러 이상의 가치를 지닌 구단으로 조사됐다.\n",
      "3위는 레알의 영원한 라이벌 바르셀로나로 56억 달러(약 7조6636억원)였다. 4위는 리버풀이었다. 53억 7000만 달러(약 7조3488억원)로 프리미어리그 팀 중에서는 2위에 해당했다. 5위는 프리미어리그 최초 4회 연속 우승에 빛나는 맨체스터 시티로 51억 달러(약 6조9793억원)의 가치를 지닌 것으로 평가됐다. 독일 분데스리가에서 유일하게 선정된 바이에른 뮌헨이 50억 달러(약 6조8425억원)로 6위에 올랐다.\n",
      "TOP 10 목록을 보면 토트넘만 유일하게 최근까지 우승컵을 들어올리지 못한 팀인 걸 알 수 있다. 토트넘보다 낮게 평가된 첼시는 2020-21시즌 유럽축구연맹(UEFA) 챔피언스리그에서 우승했고, 아스널 또한 2019-20시즌 FA컵을 제패했다. 토트넘이 마지막으로 우승한 건 2007-08시즌으로 벌써 16년이 흘렀다.\n",
      "이번 시즌에는 개막 후 10경기 연속 무패(8승2무)를 달리며 무관에서 탈출할 것으로 기대를 모았지만 이후 급격하게 힘이 빠지며 결국 5위로 시즌을 마무리했다.\n",
      "영국 트리뷰나는 \"세계에서 가장 가치 있는 클럽이 공개됐다. 토트넘이 아스널보다 더 높은 순위에 랭크됐다\"라고 놀라워했다.\n",
      "매체는 \"레알이 3년 연속 1위에 오르며 타의 추종을 불허하는 성과를 냈다. 맨유가 2위에 올랐고, 바르셀로나, 리버풀, 맨시티가 뒤를 이었다. 놀랍게도 토트넘은 아스널보다 높은 8위에 올랐다\"라며 우승컵이 없는 토트넘이 8위에 오른 사실을 조명했다.\n",
      "토트넘이 8위에 오를 수 있었던 건 다른 리그보다 월등히 높은 프리미어리그 중계권료 덕분이었다. 포브스는 \"세계에서 가장 가치 있는 축구 클럽 30팀 중 12팀이 프리미어리그 소속이다. 프리미어리그는 2025-26시즌부터 2028-29시즌까지 연평균 21억 달러에 TV 중계권 계약을 체결했다. 다른 축구 리그보다 국내 방송 수익이 2배 이상 많다. 국제 방송 계약까지 포함하면 2위 라리가보다 2배나 더 많다\"라고 분석했다.\n",
      "사진=연합뉴스, 트리뷰나\n",
      "나승우 기자 winright95@xportsnews.com \n"
     ]
    }
   ],
   "source": [
    "url = \"https://v.daum.net/v/20240524104635723\"\n",
    "\n",
    "with requests.Session() as s:\n",
    "    r = s.get(url)\n",
    "    soup = BeautifulSoup(r.text, \"lxml\")\n",
    "\n",
    "    #title = soup.find(\"h3\", class_=\"tit_view\")\n",
    "    title = soup.select_one(\"h3.tit_view\")\n",
    "    print(title.string)\n",
    "\n",
    "    #writer = soup.find(\"span\",class_=\"txt_info\")\n",
    "    writer = soup.select_one(\".info_view > span.txt_info\")\n",
    "    print(writer.string)\n",
    "\n",
    "    #cTime = soup.find(\"span\",class_=\"num_date\")\n",
    "    cTime = soup.select_one(\"span.num_date\")\n",
    "    print(cTime.string)\n",
    "\n",
    "    #contents = soup.find_all(\"p\",{\"dmcf-ptype\":\"general\"})\n",
    "    contents = soup.select(\"p[dmcf-ptype ='general']\")\n",
    "    for content in contents:\n",
    "        print(content.text)\n",
    "    \n",
    "    #mArticle > div.head_view > h3\n",
    "    #//*[@id=\"mArticle\"]/div[1]/h3"
   ]
  },
  {
   "cell_type": "code",
   "execution_count": 44,
   "metadata": {},
   "outputs": [
    {
     "name": "stdout",
     "output_type": "stream",
     "text": [
      "<!DOCTYPE HTML>\n",
      "<html lang=\"ko\">\n",
      "<head>\n",
      "    <meta http-equiv=\"Content-Type\" content=\"text/html; charset=utf-8\"/>\n",
      "    <meta name=\"viewport\" content=\"width=device-width,initial-scale=1.0,maximum-scale=1.0,minimum-scale=1.0,user-scalable=no\">\n",
      "    <meta name=\"description\" lang=\"ko\" content=\"잠시 후 다시 확인해주세요! : 네이버쇼핑\">\n",
      "    <title>에러 페이지 : 네이버쇼핑</title>\n",
      "    <link rel=\"stylesheet\" type=\"text/css\" href=\"//img.pay.naver.net/static/css/customer/naver_error.css\">\n",
      "\n",
      "    <script src=\"https://ssl.pstatic.net/static/fe/grafolio.js\"></script>\n",
      "</head>\n",
      "\n",
      "\n",
      "<body>\n",
      "<div id=\"u_skip\" class=\"u_skip\">\n",
      "    <a href=\"#content\">본문 바로가기</a>\n",
      "</div>\n",
      "<div class=\"wrap\">\n",
      "    <div class=\"header\" role=\"banner\">\n",
      "        <h1 class=\"logo\"><a href=\"//naver.com\" class=\"logo_link\"><img src=\"//img.pay.naver.net/static/images/customer/naver_logo.png\" width=\"90\" height=\"16\"\n",
      "                                                                             alt=\"네이버\"></a></h1>\n",
      "        <div class=\"nav\" role=\"navigation\">\n",
      "            <a href=\"//naver.com\" class=\"nav_link\">네이버홈</a>\n",
      "            <a href=\"//help.pay.naver.com\" class=\"nav_link\">쇼핑&페이 고객센터</a>\n",
      "        </div>\n",
      "    </div>\n",
      "    <hr>\n",
      "    <div class=\"container\" role=\"main\">\n",
      "        <div class=\"content\" id=\"content\">\n",
      "            <div class=\"image_area _errorImage\"></div>\n",
      "\n",
      "            <div class=\"info_area\">\n",
      "                <div class=\"info_txt\">\n",
      "                    <strong class=\"tit\">잠시 후 다시 확인해주세요!</strong>\n",
      "                    <p class=\"txt\">\n",
      "                        지금 이 서비스와 연결할 수 없습니다.<br>\n",
      "                        문제를 해결하기 위해 열심히 노력하고 있습니다.<br>\n",
      "                        잠시 후 다시 확인해주세요.\n",
      "                    </p>\n",
      "                </div>\n",
      "                <div class=\"info_link\">\n",
      "                    <a href=\"javascript:history.go(-1)\" class=\"link_prev\">이전 페이지</a><a href=\"//shopping.naver.com\" class=\"link_home\">네이버쇼핑 홈</a>\n",
      "                </div>\n",
      "            </div>\n",
      "        </div>\n",
      "    </div>\n",
      "    <hr>\n",
      "    <div class=\"footer\" role=\"contentinfo\">\n",
      "        <address>\n",
      "            <span>Copyright</span> ©<a href=\"http://www.navercorp.com\" class=\"link_naver\" target=\"_blank\">NAVER Corp.</a> <span>All Rights Reserved.</span>\n",
      "        </address>\n",
      "    </div>\n",
      "</div>\n",
      "</body>\n",
      "</html>\n",
      "\n",
      "[]\n"
     ]
    }
   ],
   "source": [
    "from fake_useragent import UserAgent\n",
    "\n",
    "userAgent = UserAgent()\n",
    "url = \"https://shopping.naver.com/home\"\n",
    "\n",
    "headers = {\"user-agent\":userAgent.chrome}\n",
    "\n",
    "with requests.Session() as s:\n",
    "    r = s.get(url, headers=headers)\n",
    "    soup = BeautifulSoup(r.text, \"lxml\")\n",
    "\n",
    "    print(r.text)\n",
    "\n",
    "    categories = soup.select(\"li._categoryLayer_list_34UME\")\n",
    "    #_categoryLayer_list_34UME\n",
    "    print(categories)\n",
    "    for category in categories:\n",
    "        print(category)"
   ]
  },
  {
   "cell_type": "code",
   "execution_count": 64,
   "metadata": {},
   "outputs": [
    {
     "name": "stdout",
     "output_type": "stream",
     "text": [
      "다우산업(05.24)\n",
      " 나스닥(05.24)\n",
      " 홍콩H(05.27)\n",
      " 상해종합(05.27)\n",
      " 니케이225(05.27)\n",
      "\n",
      "1.삼성전자\n",
      "2.두산에너빌리..\n",
      "3.SK하이닉스\n",
      "4.한미반도체\n",
      "5.HLB\n"
     ]
    }
   ],
   "source": [
    "url = \"https://finance.naver.com/\"\n",
    "\n",
    "with requests.Session() as s:\n",
    "    r = s.get(url)\n",
    "    soup = BeautifulSoup(r.text, \"lxml\")\n",
    "    \n",
    "    #aside_area aside_stock\n",
    "    div = soup.find(\"div\", class_=\"aside_area aside_stock\")\n",
    "    table = div.find(\"table\", class_=\"tbl_home\")\n",
    "    tbody = table.find(\"tbody\")\n",
    "    ths = tbody.find_all(\"th\")\n",
    "    \n",
    "    for th in ths:\n",
    "        print(th.text)\n",
    "    \n",
    "    print()\n",
    "\n",
    "    div = soup.find(\"div\", class_=\"aside_area aside_popular\")\n",
    "    table = div.find(\"table\", class_=\"tbl_home\")\n",
    "    tbody = table.find(\"tbody\")\n",
    "    ths = tbody.find_all(\"th\")\n",
    "    \n",
    "    for th in ths:\n",
    "        print(th.text)"
   ]
  },
  {
   "cell_type": "code",
   "execution_count": null,
   "metadata": {},
   "outputs": [],
   "source": []
  }
 ],
 "metadata": {
  "kernelspec": {
   "display_name": "venv",
   "language": "python",
   "name": "python3"
  },
  "language_info": {
   "codemirror_mode": {
    "name": "ipython",
    "version": 3
   },
   "file_extension": ".py",
   "mimetype": "text/x-python",
   "name": "python",
   "nbconvert_exporter": "python",
   "pygments_lexer": "ipython3",
   "version": "3.12.3"
  }
 },
 "nbformat": 4,
 "nbformat_minor": 2
}
