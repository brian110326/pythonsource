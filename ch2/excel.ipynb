{
 "cells": [
  {
   "cell_type": "markdown",
   "metadata": {},
   "source": [
    "pip : python module이나 package를 쉽게 설치할 수 있도록 도와주는 도구\n",
    "\n",
    "1. 패키지 설치\n",
    "pip install 패키지명\n",
    "pip install 패키지명 == 1.0.4(version)\n",
    "\n",
    "2. 패키지 업그레이드\n",
    "pip install -- upgrade 패키지명\n",
    "\n",
    "3. 패키지 제거\n",
    "pip uninstall 패키지명\n",
    "\n",
    "4. 설치된 패키지 확인\n",
    "pip list\n",
    "\n",
    "pip install openpyxl : 엑셀파일 패키지\n",
    "pip install Pillow : 이미지 패키지"
   ]
  },
  {
   "cell_type": "code",
   "execution_count": 2,
   "metadata": {},
   "outputs": [],
   "source": [
    "from openpyxl import Workbook\n",
    "\n",
    "wb = Workbook()  # new Workbook 생성\n",
    "ws = wb.active   # 현재 활성화된 엑셀의 sheet 가져옴\n",
    "\n",
    "ws.title = \"시트1\"\n",
    "wb.save(\"./resource/sample.xlsx\")\n",
    "wb.close()"
   ]
  },
  {
   "cell_type": "code",
   "execution_count": 6,
   "metadata": {},
   "outputs": [],
   "source": [
    "# 시트 생성\n",
    "ws1 = wb.create_sheet()\n",
    "ws1.title = \"시트2\"\n",
    "ws1.sheet_properties.tabColor = \"ff66ff\"\n",
    "\n",
    "wb.save(\"./resource/sample.xlsx\")"
   ]
  },
  {
   "cell_type": "code",
   "execution_count": 7,
   "metadata": {},
   "outputs": [],
   "source": [
    "# index : 시트 위치 지정\n",
    "ws1 = wb.create_sheet(title=\"급여명세\", index=2)\n",
    "\n",
    "# 시트 복사\n",
    "new_ws = wb[\"시트2\"]  # 생성된 시트에 접근\n",
    "new_ws[\"A1\"] = \"Test\"\n",
    "\n",
    "target = wb.copy_worksheet(new_ws)\n",
    "target.title = \"Copied Sheet\"\n",
    "\n",
    "wb.save(\"./resource/sample.xlsx\")"
   ]
  },
  {
   "cell_type": "code",
   "execution_count": 7,
   "metadata": {},
   "outputs": [
    {
     "data": {
      "text/plain": [
       "['시트1', '시트2', '급여명세', '시트21', 'Copied Sheet']"
      ]
     },
     "execution_count": 7,
     "metadata": {},
     "output_type": "execute_result"
    }
   ],
   "source": [
    "# 생성된 모든 시트명 가져오기\n",
    "wb.sheetnames"
   ]
  },
  {
   "cell_type": "code",
   "execution_count": 3,
   "metadata": {},
   "outputs": [
    {
     "name": "stdout",
     "output_type": "stream",
     "text": [
      "<Cell '시트1'.A1>\n",
      "1\n",
      "1\n",
      "6\n",
      "10\n"
     ]
    }
   ],
   "source": [
    "ws1 = wb[\"시트1\"]\n",
    "\n",
    "# 셀에 데이터 입력\n",
    "ws1[\"A1\"] = 1\n",
    "ws1[\"A2\"] = 2\n",
    "ws1[\"A3\"] = 3\n",
    "ws1[\"A4\"] = 4\n",
    "\n",
    "ws1[\"B1\"] = 5\n",
    "ws1[\"B2\"] = 6\n",
    "ws1[\"B3\"] = 7\n",
    "ws1[\"B4\"] = 8\n",
    "\n",
    "print(ws1[\"A1\"])  # 셀의 정보만 출력\n",
    "print(ws1[\"A1\"].value)  # 셀의 value값 출력\n",
    "\n",
    "print(ws1.cell(row=1, column=1).value)  # A1\n",
    "print(ws1.cell(row=2, column=2).value)  # B2\n",
    "\n",
    "w = ws1.cell(row=1, column=3, value=10)\n",
    "print(w.value)\n",
    "\n",
    "wb.save(\"./resource/sample.xlsx\")"
   ]
  },
  {
   "cell_type": "code",
   "execution_count": 8,
   "metadata": {},
   "outputs": [],
   "source": [
    "# 1 ~ 100 사이의 임의 숫자를 채우기\n",
    "from random import randint\n",
    "\n",
    "wb = Workbook()  # new Workbook 생성\n",
    "ws = wb.active   # 현재 활성화된 엑셀의 sheet 가져옴\n",
    "\n",
    "ws.title = \"시트1\"\n",
    "\n",
    "for x in range(1,11):\n",
    "    for y in range(1,11):\n",
    "        ws.cell(row=x, column=y, value=randint(1,100))\n",
    "\n",
    "wb.save(\"./resource/sample2.xlsx\")\n",
    "wb.close()"
   ]
  },
  {
   "cell_type": "code",
   "execution_count": 9,
   "metadata": {},
   "outputs": [
    {
     "name": "stdout",
     "output_type": "stream",
     "text": [
      "65 71 95 21 81 84 3 44 5 18 \n",
      "34 81 65 3 13 57 60 18 89 71 \n",
      "6 75 2 86 34 21 91 35 83 50 \n",
      "96 68 98 6 98 17 73 18 13 25 \n",
      "2 46 25 63 85 12 46 11 90 62 \n",
      "1 27 14 75 79 74 96 89 25 53 \n",
      "89 90 96 34 18 69 26 16 50 18 \n",
      "16 95 50 35 94 75 71 46 77 81 \n",
      "74 20 73 3 9 38 49 54 84 11 \n",
      "48 72 54 31 71 58 92 23 93 98 \n"
     ]
    }
   ],
   "source": [
    "# excel 파일 열기\n",
    "from openpyxl import load_workbook\n",
    "wb = load_workbook(\"./resource/sample2.xlsx\")\n",
    "\n",
    "# work sheet 가져오기\n",
    "ws = wb.active\n",
    "\n",
    "# 셀 내용 가져오기 - 행,열, 개수 알고 있을 때\n",
    "# for x in range(1,11):\n",
    "#     for y in range(1,11):\n",
    "#         print(ws.cell(row=x, column=y).value, end=\" \")\n",
    "#     print()\n",
    "\n",
    "# max_row, column : 시트가 가지고 있는 행 열 개수 가져오기\n",
    "for x in range(1,ws.max_row+1):\n",
    "    for y in range(1,ws.max_column+1):\n",
    "        print(ws.cell(row=x, column=y).value, end=\" \")\n",
    "    print()"
   ]
  },
  {
   "cell_type": "code",
   "execution_count": 17,
   "metadata": {},
   "outputs": [
    {
     "name": "stdout",
     "output_type": "stream",
     "text": [
      "영어 94 87 96 78 92 32 42 39 94 70 \n",
      "수학 25 61 61 92 1 30 84 5 64 59 \n"
     ]
    }
   ],
   "source": [
    "wb = Workbook()\n",
    "ws = wb.active\n",
    "\n",
    "# 행 단위로 데이터 삽입 : append\n",
    "ws.append([\"번호\",\"영어\",\"수학\"])\n",
    "\n",
    "for i in range(1,11):\n",
    "        ws.append([i, randint(1,100), randint(1,100)])\n",
    "\n",
    "# 컬럼 단위로 가져오기\n",
    "# col_B = ws[\"B\"]\n",
    "# print(col_B)\n",
    "\n",
    "# for cell in col_B:\n",
    "#         print(cell.value)\n",
    "\n",
    "cols = ws[\"B:C\"]\n",
    "for c in cols:\n",
    "        for cell in c:\n",
    "                print(cell.value, end=\" \")\n",
    "        print()\n",
    "\n",
    "wb.save(\"./resource/range.xlsx\")"
   ]
  },
  {
   "cell_type": "code",
   "execution_count": 27,
   "metadata": {},
   "outputs": [
    {
     "name": "stdout",
     "output_type": "stream",
     "text": [
      "영어\n",
      "94\n",
      "87\n",
      "96\n",
      "78\n",
      "92\n",
      "32\n",
      "42\n",
      "39\n",
      "94\n",
      "70\n",
      "번호\n",
      "영어\n",
      "수학\n",
      "번호 영어 수학 \n",
      "1 94 25 \n",
      "2 87 61 \n",
      "3 96 61 \n",
      "4 78 92 \n",
      "번호 1 2 3 4 \n",
      "영어 94 87 96 78 \n"
     ]
    }
   ],
   "source": [
    "# 행 단위로 가져오기\n",
    "# row_title = ws[1]\n",
    "# for cell in row_title:\n",
    "#     print(cell.value)\n",
    "\n",
    "# row_range = ws[2:ws.max_row]\n",
    "# for rows in row_range:\n",
    "#     for cell in rows:\n",
    "#         print(cell.value, end=\" \")\n",
    "#     print()\n",
    "\n",
    "# 살짝 헷갈림\n",
    "for row in tuple(ws.rows):\n",
    "    print(row[1].value)\n",
    "\n",
    "for col in tuple(ws.columns):\n",
    "    print(col[0].value)\n",
    "\n",
    "# ws.iter_rows() : 전체 rows 가져오기\n",
    "# ws.iter_rows(min_row=1,max_row=5) : 특정 범위의 rows 가져오기\n",
    "for row in ws.iter_rows(min_row=1,max_row=5):\n",
    "    for cell in row:\n",
    "        print(cell.value, end=\" \")\n",
    "    print()\n",
    "\n",
    "for col in ws.iter_cols(min_row=1,max_row=5, max_col=2):\n",
    "    for cell in col:\n",
    "        print(cell.value, end=\" \")\n",
    "    print()"
   ]
  },
  {
   "cell_type": "code",
   "execution_count": null,
   "metadata": {},
   "outputs": [],
   "source": []
  }
 ],
 "metadata": {
  "kernelspec": {
   "display_name": "venv",
   "language": "python",
   "name": "python3"
  },
  "language_info": {
   "codemirror_mode": {
    "name": "ipython",
    "version": 3
   },
   "file_extension": ".py",
   "mimetype": "text/x-python",
   "name": "python",
   "nbconvert_exporter": "python",
   "pygments_lexer": "ipython3",
   "version": "3.12.3"
  }
 },
 "nbformat": 4,
 "nbformat_minor": 2
}
