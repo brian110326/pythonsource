{
 "cells": [
  {
   "cell_type": "markdown",
   "metadata": {},
   "source": [
    "#### 파일 입출력\n",
    "- open(\"파일명\", \"모드\")\n",
    "- 모드 : r(read), w(write), a(append)\n",
    "- with open() as f:"
   ]
  },
  {
   "cell_type": "code",
   "execution_count": 22,
   "metadata": {},
   "outputs": [],
   "source": [
    "f = open(\"./resource/test1.txt\", \"r\")\n",
    "dir(f)\n",
    "f.read() # 전체 읽어오기\n",
    "f.close()\n"
   ]
  },
  {
   "cell_type": "code",
   "execution_count": 32,
   "metadata": {},
   "outputs": [],
   "source": [
    "# close() 가 자동적으로 호출됨\n",
    "with open(\"./resource/test1.txt\",\"r\") as f:\n",
    "    f.read()"
   ]
  },
  {
   "cell_type": "code",
   "execution_count": 11,
   "metadata": {},
   "outputs": [
    {
     "data": {
      "text/plain": [
       "'Kim\\n'"
      ]
     },
     "execution_count": 11,
     "metadata": {},
     "output_type": "execute_result"
    }
   ],
   "source": [
    "f = open(\"./resource/test1.txt\", \"r\")\n",
    "f.readline() # 줄 단위로 읽어오기"
   ]
  },
  {
   "cell_type": "code",
   "execution_count": 12,
   "metadata": {},
   "outputs": [
    {
     "data": {
      "text/plain": [
       "['Kim\\n', 'Park\\n', 'Choi']"
      ]
     },
     "execution_count": 12,
     "metadata": {},
     "output_type": "execute_result"
    }
   ],
   "source": [
    "f = open(\"./resource/test1.txt\", \"r\")\n",
    "f.readlines() # 전체 읽어오기 + list로 반환"
   ]
  },
  {
   "cell_type": "code",
   "execution_count": 15,
   "metadata": {},
   "outputs": [],
   "source": [
    "f = open(\"./resource/test2.txt\", \"w\", encoding=\"utf-8\")\n",
    "f.write(\"안녕하세요\\n반갑습니다.\")\n",
    "f.close()"
   ]
  },
  {
   "cell_type": "code",
   "execution_count": 16,
   "metadata": {},
   "outputs": [],
   "source": [
    "# 1번째 줄입니다 ~ 10번째 줄입니다\n",
    "f = open(\"./resource/test3.txt\", \"w\", encoding=\"utf-8\")\n",
    "for i in range(1,11):\n",
    "    f.write(\"%d번째 줄입니다\\n\" %i)\n",
    "f.close()"
   ]
  },
  {
   "cell_type": "code",
   "execution_count": 17,
   "metadata": {},
   "outputs": [],
   "source": [
    "f = open(\"./resource/test4.txt\", \"w\", encoding=\"utf-8\")\n",
    "\n",
    "f.writelines([\"kim\\n\",\"Park\\n\",\"Tae\\n\"]) # 리스트 값을 파일에 쓰기\n",
    "f.close()"
   ]
  },
  {
   "cell_type": "code",
   "execution_count": 20,
   "metadata": {},
   "outputs": [],
   "source": [
    "f = open(\"./resource/test4.txt\", \"w\", encoding=\"utf-8\")\n",
    "dict1 = {\"name\":\"hong\",\"age\":25,\"addr\":\"서울\"}\n",
    "for k,v in dict1.items():\n",
    "    f.writelines(\"{} : {}\\n\".format(k,v))\n",
    "f.close()"
   ]
  },
  {
   "cell_type": "code",
   "execution_count": 26,
   "metadata": {},
   "outputs": [
    {
     "ename": "ValueError",
     "evalue": "I/O operation on closed file.",
     "output_type": "error",
     "traceback": [
      "\u001b[1;31m---------------------------------------------------------------------------\u001b[0m",
      "\u001b[1;31mValueError\u001b[0m                                Traceback (most recent call last)",
      "Cell \u001b[1;32mIn[26], line 4\u001b[0m\n\u001b[0;32m      2\u001b[0m dict1 \u001b[38;5;241m=\u001b[39m {\u001b[38;5;124m\"\u001b[39m\u001b[38;5;124mname\u001b[39m\u001b[38;5;124m\"\u001b[39m:\u001b[38;5;124m\"\u001b[39m\u001b[38;5;124mhong\u001b[39m\u001b[38;5;124m\"\u001b[39m,\u001b[38;5;124m\"\u001b[39m\u001b[38;5;124mage\u001b[39m\u001b[38;5;124m\"\u001b[39m:\u001b[38;5;241m25\u001b[39m,\u001b[38;5;124m\"\u001b[39m\u001b[38;5;124maddr\u001b[39m\u001b[38;5;124m\"\u001b[39m:\u001b[38;5;124m\"\u001b[39m\u001b[38;5;124m서울\u001b[39m\u001b[38;5;124m\"\u001b[39m}\n\u001b[0;32m      3\u001b[0m \u001b[38;5;28;01mfor\u001b[39;00m k,v \u001b[38;5;129;01min\u001b[39;00m dict1\u001b[38;5;241m.\u001b[39mitems():\n\u001b[1;32m----> 4\u001b[0m     \u001b[43mf\u001b[49m\u001b[38;5;241;43m.\u001b[39;49m\u001b[43mwritelines\u001b[49m\u001b[43m(\u001b[49m\u001b[38;5;124;43m\"\u001b[39;49m\u001b[38;5;132;43;01m{}\u001b[39;49;00m\u001b[38;5;124;43m : \u001b[39;49m\u001b[38;5;132;43;01m{}\u001b[39;49;00m\u001b[38;5;130;43;01m\\n\u001b[39;49;00m\u001b[38;5;124;43m\"\u001b[39;49m\u001b[38;5;241;43m.\u001b[39;49m\u001b[43mformat\u001b[49m\u001b[43m(\u001b[49m\u001b[43mk\u001b[49m\u001b[43m,\u001b[49m\u001b[43mv\u001b[49m\u001b[43m)\u001b[49m\u001b[43m)\u001b[49m\n",
      "\u001b[1;31mValueError\u001b[0m: I/O operation on closed file."
     ]
    }
   ],
   "source": [
    "with open(\"./resource/test4.txt\", \"w\", encoding=\"utf-8\"):\n",
    "    dict1 = {\"name\":\"hong\",\"age\":25,\"addr\":\"서울\"}\n",
    "    for k,v in dict1.items():\n",
    "        f.writelines(\"{} : {}\\n\".format(k,v))"
   ]
  },
  {
   "cell_type": "code",
   "execution_count": 27,
   "metadata": {},
   "outputs": [
    {
     "name": "stdout",
     "output_type": "stream",
     "text": [
      "The film, projected in the form of animation,\n",
      "imparts the lesson of how wars can be eluded through reasoning and peaceful dialogues,\n",
      "which eventually paves the path for gaining a fresh perspective on an age-old problem.\n",
      "The story also happens to centre around two parallel characters, Shundi King and Hundi King,\n",
      "who are twins, but they constantly fight over unresolved issues planted in their minds\n",
      "by external forces from within their very own units.\n"
     ]
    }
   ],
   "source": [
    "with open(\"./resource/review.txt\",\"r\") as f:\n",
    "    print(f.read())"
   ]
  },
  {
   "cell_type": "code",
   "execution_count": 29,
   "metadata": {},
   "outputs": [
    {
     "name": "stdout",
     "output_type": "stream",
     "text": [
      "The film, projected in the form of animation,\n",
      "\n",
      "imparts the lesson of how wars can be eluded through reasoning and peaceful dialogues,\n",
      "\n",
      "which eventually paves the path for gaining a fresh perspective on an age-old problem.\n",
      "\n",
      "The story also happens to centre around two parallel characters, Shundi King and Hundi King,\n",
      "\n",
      "who are twins, but they constantly fight over unresolved issues planted in their minds\n",
      "\n",
      "by external forces from within their very own units.\n"
     ]
    }
   ],
   "source": [
    "with open(\"./resource/review.txt\",\"r\") as f:\n",
    "    line = f.readline()\n",
    "    while line:\n",
    "        print(line)\n",
    "        line = f.readline()"
   ]
  },
  {
   "cell_type": "code",
   "execution_count": 30,
   "metadata": {},
   "outputs": [
    {
     "name": "stdout",
     "output_type": "stream",
     "text": [
      "['The film, projected in the form of animation,\\n', 'imparts the lesson of how wars can be eluded through reasoning and peaceful dialogues,\\n', 'which eventually paves the path for gaining a fresh perspective on an age-old problem.\\n', 'The story also happens to centre around two parallel characters, Shundi King and Hundi King,\\n', 'who are twins, but they constantly fight over unresolved issues planted in their minds\\n', 'by external forces from within their very own units.']\n"
     ]
    }
   ],
   "source": [
    "with open(\"./resource/review.txt\",\"r\") as f:\n",
    "    print(f.readlines())"
   ]
  },
  {
   "cell_type": "code",
   "execution_count": 60,
   "metadata": {},
   "outputs": [
    {
     "name": "stdout",
     "output_type": "stream",
     "text": [
      "점수 합 : 520\n",
      "평균 :  86.66666666666667\n"
     ]
    }
   ],
   "source": [
    "# score.txt 읽어서 평균과 합 출력\n",
    "with open(\"./resource/score.txt\",\"r\") as f:\n",
    "    list1 = f.readlines()\n",
    "    sum1 = 0\n",
    "    avg = 0\n",
    "    for num in list1:\n",
    "        sum1 += int(num)\n",
    "        \n",
    "print(\"점수 합 : %d\" %sum1)\n",
    "print(\"평균 : \", sum1/len(list1))\n",
    "        \n",
    "        "
   ]
  },
  {
   "cell_type": "code",
   "execution_count": 66,
   "metadata": {},
   "outputs": [
    {
     "name": "stdout",
     "output_type": "stream",
     "text": [
      "520\n",
      "86.66666666666667\n"
     ]
    }
   ],
   "source": [
    "score = []\n",
    "with open(\"./resource/score.txt\",\"r\") as f:\n",
    "    for num in f:\n",
    "        # print(num, end=\"\")\n",
    "        score.append(int(num))\n",
    "print(sum(score))\n",
    "print(sum(score) / len(score))"
   ]
  },
  {
   "cell_type": "code",
   "execution_count": 67,
   "metadata": {},
   "outputs": [],
   "source": [
    "# score.txt 읽어서 총합과 평균 구한 후 구한값을 result.txt에 작성\n",
    "score = []\n",
    "with open(\"./resource/score.txt\",\"r\") as f:\n",
    "    for num in f:\n",
    "        # print(num, end=\"\")\n",
    "        score.append(int(num))\n",
    "        sum1 = sum(score)\n",
    "        avg = sum(score) / len(score)\n",
    "        \n",
    "with open(\"./resource/result.txt\",\"w\",encoding=\"utf-8\") as f:\n",
    "    f.write(f\"총합 : {sum1}\\n평균 : {avg}\")\n"
   ]
  },
  {
   "cell_type": "code",
   "execution_count": 71,
   "metadata": {},
   "outputs": [
    {
     "data": {
      "text/plain": [
       "0.10036142289558214"
      ]
     },
     "execution_count": 71,
     "metadata": {},
     "output_type": "execute_result"
    }
   ],
   "source": [
    "# python 표준 라이브러리\n",
    "import random\n",
    "random.random() # 0.0 ~ 1.0"
   ]
  },
  {
   "cell_type": "code",
   "execution_count": 76,
   "metadata": {},
   "outputs": [
    {
     "name": "stdout",
     "output_type": "stream",
     "text": [
      "1\n",
      "3\n",
      "59\n"
     ]
    }
   ],
   "source": [
    "print(random.randint(1,10))\n",
    "print(random.choice([1,2,3,4,5]))\n",
    "print(random.randrange(40,100))"
   ]
  },
  {
   "cell_type": "code",
   "execution_count": 77,
   "metadata": {},
   "outputs": [
    {
     "data": {
      "text/plain": [
       "['카']"
      ]
     },
     "execution_count": 77,
     "metadata": {},
     "output_type": "execute_result"
    }
   ],
   "source": [
    "# 500명의 키와 몸무게를 랜덤 생성 후 파일에 저장\n",
    "import random\n",
    "strings = list(\"가나다라마바사아자차카타파하\")\n",
    "print(random.choices(strings) + random.choices(strings)) # 이름\n",
    "print(random.randrange(150,200)) # 키\n",
    "print(random.randrange(50,100)) # 몸무게\n",
    "\n"
   ]
  },
  {
   "cell_type": "code",
   "execution_count": null,
   "metadata": {},
   "outputs": [],
   "source": []
  }
 ],
 "metadata": {
  "kernelspec": {
   "display_name": "venv",
   "language": "python",
   "name": "python3"
  },
  "language_info": {
   "codemirror_mode": {
    "name": "ipython",
    "version": 3
   },
   "file_extension": ".py",
   "mimetype": "text/x-python",
   "name": "python",
   "nbconvert_exporter": "python",
   "pygments_lexer": "ipython3",
   "version": "3.12.3"
  }
 },
 "nbformat": 4,
 "nbformat_minor": 2
}
