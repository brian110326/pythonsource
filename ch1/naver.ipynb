{
 "cells": [
  {
   "cell_type": "code",
   "execution_count": 1,
   "metadata": {},
   "outputs": [],
   "source": [
    "# 선풍기, 청바지, 수영복, 신발, 여행\n",
    "# 100개씩 ==> 500개\n",
    "# title, category1, category2, category3, lprice, brand"
   ]
  },
  {
   "cell_type": "code",
   "execution_count": 2,
   "metadata": {},
   "outputs": [],
   "source": [
    "from bs4 import BeautifulSoup\n",
    "import requests"
   ]
  },
  {
   "cell_type": "code",
   "execution_count": null,
   "metadata": {},
   "outputs": [],
   "source": [
    "url = \"https://openapi.naver.com/v1/search/shop.json\"\n",
    "headers = {\n",
    "    \"X-Naver-Client-Id\": \"QAkT4398UqNmY3pM9Xaz\",\n",
    "    \"X-Naver-Client-Secret\": \"MZ6XvCh9Q1\",\n",
    "}\n",
    "\n",
    "r = requests.get(url=url, headers=headers, params={\"query\":\"선풍기\", \"display\":100})\n",
    "data = r.json()\n",
    "\n",
    "for idx, item in enumerate(data[\"items\"],1):\n",
    "    pass"
   ]
  }
 ],
 "metadata": {
  "kernelspec": {
   "display_name": "venv",
   "language": "python",
   "name": "python3"
  },
  "language_info": {
   "codemirror_mode": {
    "name": "ipython",
    "version": 3
   },
   "file_extension": ".py",
   "mimetype": "text/x-python",
   "name": "python",
   "nbconvert_exporter": "python",
   "pygments_lexer": "ipython3",
   "version": "3.12.3"
  }
 },
 "nbformat": 4,
 "nbformat_minor": 2
}
