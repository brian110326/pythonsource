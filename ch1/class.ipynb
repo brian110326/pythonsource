{
 "cells": [
  {
   "cell_type": "code",
   "execution_count": 1,
   "metadata": {},
   "outputs": [
    {
     "name": "stdout",
     "output_type": "stream",
     "text": [
      "이름 : Kim, 학번 : 1, 학년 : 1, 학생정보 : [{'gender': 'male'}, {'score1': 95}, {'score2': 88}]\n"
     ]
    }
   ],
   "source": [
    "# 3명의 학생 정보 입력하고 출력\n",
    "# 변수, list, dictionary\n",
    "\n",
    "student_name1 = \"Kim\"\n",
    "student_number1 = 1\n",
    "student_grade1 = 1\n",
    "student_detail1 = [\n",
    "    {\"gender\":\"male\"},\n",
    "    {\"score1\":95},\n",
    "    {\"score2\":88}\n",
    "]\n",
    "\n",
    "print(f\"이름 : {student_name1}, 학번 : {student_number1}, 학년 : {student_grade1}, 학생정보 : {student_detail1}\")"
   ]
  },
  {
   "cell_type": "code",
   "execution_count": 2,
   "metadata": {},
   "outputs": [],
   "source": [
    "# __init__ : java에서 생성자 개념\n",
    "# __str__ : java에서 toString 개념\n",
    "# self : java에서 this 개념\n",
    "\n",
    "class Student():\n",
    "    def __init__(self, name, number, grade, details) -> None:\n",
    "        self.name = name\n",
    "        self.number = number\n",
    "        self.grade = grade\n",
    "        self.details = details\n",
    "    def __str__(self) -> str:\n",
    "        return \"{}\".format(self.name)"
   ]
  },
  {
   "cell_type": "code",
   "execution_count": 3,
   "metadata": {},
   "outputs": [],
   "source": [
    "# 객체 생성\n",
    "\n",
    "student1 = Student(name=\"Kim\", number=1, grade=1, details={\"gender\":\"male\",\"score1\":95,\"score2\":88})\n",
    "student2 = Student(\"Park\", 1, 2, {\"gender\":\"female\",\"score1\":45,\"score2\":78})\n",
    "student3 = Student(name=\"Choi\", number=4, grade=6, details={\"gender\":\"male\",\"score1\":56,\"score2\":99})"
   ]
  },
  {
   "cell_type": "code",
   "execution_count": 5,
   "metadata": {},
   "outputs": [
    {
     "name": "stdout",
     "output_type": "stream",
     "text": [
      "{'name': 'Kim', 'number': 1, 'grade': 1, 'details': {'gender': 'male', 'score1': 95, 'score2': 88}}\n",
      "{'name': 'Park', 'number': 1, 'grade': 2, 'details': {'gender': 'female', 'score1': 45, 'score2': 78}}\n",
      "{'name': 'Choi', 'number': 4, 'grade': 6, 'details': {'gender': 'male', 'score1': 56, 'score2': 99}}\n"
     ]
    }
   ],
   "source": [
    "print(student1.__dict__)\n",
    "print(student2.__dict__)\n",
    "print(student3.__dict__)"
   ]
  },
  {
   "cell_type": "code",
   "execution_count": 6,
   "metadata": {},
   "outputs": [
    {
     "name": "stdout",
     "output_type": "stream",
     "text": [
      "메소드 실행\n"
     ]
    }
   ],
   "source": [
    "class UserInfo():\n",
    "    def user_info(self):\n",
    "        print(\"메소드 실행\")\n",
    "\n",
    "user1 = UserInfo()\n",
    "user1.user_info()"
   ]
  },
  {
   "cell_type": "code",
   "execution_count": 8,
   "metadata": {},
   "outputs": [
    {
     "name": "stdout",
     "output_type": "stream",
     "text": [
      "{'speed': 110, 'color': 'red'}\n",
      "{'speed': 100, 'color': 'blue'}\n",
      "{'speed': 90, 'color': 'white'}\n"
     ]
    }
   ],
   "source": [
    "class Car1():\n",
    "    color, speed = \"\",0\n",
    "    def up_speed(self, value):\n",
    "        self.speed += value\n",
    "    \n",
    "    def down_speed(self,value):\n",
    "        self.speed -= value\n",
    "\n",
    "car1 = Car1()\n",
    "car1.speed = 100\n",
    "car1.color = \"red\"\n",
    "car1.up_speed(10)\n",
    "\n",
    "car2 = Car1()\n",
    "car2.speed = 150\n",
    "car2.color = \"blue\"\n",
    "car2.down_speed(50)\n",
    "\n",
    "car3 = Car1()\n",
    "car3.speed = 90\n",
    "car3.color = \"white\"\n",
    "\n",
    "print(car1.__dict__)\n",
    "print(car2.__dict__)\n",
    "print(car3.__dict__)\n"
   ]
  },
  {
   "cell_type": "code",
   "execution_count": 9,
   "metadata": {},
   "outputs": [],
   "source": [
    "class Car2():\n",
    "    def __init__(self) -> None:\n",
    "        self.color = \"red\"\n",
    "        self.speed = 0\n",
    "        \n",
    "    def up_speed(self, value):\n",
    "        self.speed += value\n",
    "    \n",
    "    def down_speed(self,value):\n",
    "        self.speed -= value"
   ]
  },
  {
   "cell_type": "code",
   "execution_count": 17,
   "metadata": {},
   "outputs": [],
   "source": [
    "class UserInfo2():\n",
    "    user_count = 0\n",
    "\n",
    "    def __init__(self, name, age) -> None:\n",
    "        self.name = name\n",
    "        self.age = age\n",
    "        UserInfo2.user_count += 1\n",
    "\n",
    "    def user_info(self):\n",
    "        return f\"name : {self.name}, age : {self.age}\"\n",
    "    \n",
    "    def function1():\n",
    "        print(\"function1 called\")"
   ]
  },
  {
   "cell_type": "code",
   "execution_count": 18,
   "metadata": {},
   "outputs": [
    {
     "name": "stdout",
     "output_type": "stream",
     "text": [
      "name : A, age : 30\n",
      "name : B, age : 25\n"
     ]
    }
   ],
   "source": [
    "user1 = UserInfo2(\"A\",30)\n",
    "user2 = UserInfo2(\"B\",25)\n",
    "\n",
    "print(user1.user_info())\n",
    "print(user2.user_info())"
   ]
  },
  {
   "cell_type": "code",
   "execution_count": 12,
   "metadata": {},
   "outputs": [
    {
     "data": {
      "text/plain": [
       "2"
      ]
     },
     "execution_count": 12,
     "metadata": {},
     "output_type": "execute_result"
    }
   ],
   "source": [
    "# 클래스 변수\n",
    "UserInfo2.user_count"
   ]
  },
  {
   "cell_type": "code",
   "execution_count": 20,
   "metadata": {},
   "outputs": [
    {
     "name": "stdout",
     "output_type": "stream",
     "text": [
      "function1 called\n"
     ]
    }
   ],
   "source": [
    "# user1.function1(), self 없이 작성된 메소드는 클래스 메소드\n",
    "UserInfo2.function1() "
   ]
  },
  {
   "cell_type": "code",
   "execution_count": 24,
   "metadata": {},
   "outputs": [],
   "source": [
    "class UserInfo3():\n",
    "\n",
    "    def __init__(self, name, age, email=None) -> None:\n",
    "        self.name = name\n",
    "        self.age = age\n",
    "        self.email = email\n",
    "        \n",
    "    def user_info(self):\n",
    "        return f\"name : {self.name}, age : {self.age}, email : {self.email}\""
   ]
  },
  {
   "cell_type": "code",
   "execution_count": 25,
   "metadata": {},
   "outputs": [],
   "source": [
    "# 객체 생성 시 email이 필수가 아니라면 => 생성자 오버로딩 개념 없음\n",
    "user1 = UserInfo3(name=\"A\", age = 30)\n",
    "user2 = UserInfo3(name=\"B\", age = 22, email=\"ss@gmail.com\")"
   ]
  },
  {
   "cell_type": "code",
   "execution_count": 26,
   "metadata": {},
   "outputs": [
    {
     "name": "stdout",
     "output_type": "stream",
     "text": [
      "name : A, age : 30, email : None\n",
      "name : B, age : 22, email : ss@gmail.com\n"
     ]
    }
   ],
   "source": [
    "print(user1.user_info())\n",
    "print(user2.user_info())"
   ]
  },
  {
   "cell_type": "code",
   "execution_count": 7,
   "metadata": {},
   "outputs": [
    {
     "name": "stdout",
     "output_type": "stream",
     "text": [
      "9\n",
      "-1\n",
      "20\n",
      "0.8\n"
     ]
    }
   ],
   "source": [
    "class FourCal():\n",
    "    def __init__(self, num1, num2) -> None:\n",
    "        self.num1 = num1\n",
    "        self.num2 = num2\n",
    "    def add(self):\n",
    "        return self.num1 + self.num2\n",
    "    def sub(self):\n",
    "        return self.num1 - self.num2\n",
    "    def mul(self):\n",
    "        return self.num1 * self.num2\n",
    "    def div(self):\n",
    "        return self.num1 / self.num2\n",
    "\n",
    "result = FourCal(4,5)\n",
    "print(result.add())\n",
    "print(result.sub())\n",
    "print(result.mul())\n",
    "print(result.div())\n"
   ]
  },
  {
   "cell_type": "code",
   "execution_count": 8,
   "metadata": {},
   "outputs": [],
   "source": [
    "# 상속\n",
    "class Parent:\n",
    "    def __init__(self) -> None:\n",
    "        self.value = \"테스트\"\n",
    "        print(\"Parent 생성자 호출\")\n",
    "\n",
    "    def test(self):\n",
    "        print(\"Parent test 메소드 호출\")\n",
    "\n",
    "class Child(Parent):\n",
    "    def __init__(self) -> None:\n",
    "        super().__init__()"
   ]
  },
  {
   "cell_type": "code",
   "execution_count": 9,
   "metadata": {},
   "outputs": [
    {
     "name": "stdout",
     "output_type": "stream",
     "text": [
      "Parent 생성자 호출\n",
      "테스트\n",
      "Parent test 메소드 호출\n"
     ]
    }
   ],
   "source": [
    "child = Child()\n",
    "print(child.value)\n",
    "child.test()"
   ]
  },
  {
   "cell_type": "code",
   "execution_count": 10,
   "metadata": {},
   "outputs": [],
   "source": [
    "# Overriding\n",
    "class Parent:\n",
    "    def function1(self):\n",
    "        print(\"Parent function1()\")\n",
    "\n",
    "    def function2(self):\n",
    "        print(\"Parent function2()\")\n",
    "\n",
    "class Child(Parent):\n",
    "    def function1(self):\n",
    "        print(\"Parent function1()\")\n",
    "\n",
    "    def function3(self):\n",
    "        print(\"Parent function3()\")"
   ]
  },
  {
   "cell_type": "code",
   "execution_count": 14,
   "metadata": {},
   "outputs": [
    {
     "name": "stdout",
     "output_type": "stream",
     "text": [
      "Parent function1()\n",
      "Parent function1()\n",
      "Parent function2()\n",
      "Parent function2()\n",
      "Parent function3()\n"
     ]
    }
   ],
   "source": [
    "parent, child = Parent(), Child()\n",
    "parent.function1()\n",
    "child.function1()\n",
    "child.function2()\n",
    "parent.function2()\n",
    "child.function3()"
   ]
  },
  {
   "cell_type": "code",
   "execution_count": 19,
   "metadata": {},
   "outputs": [
    {
     "name": "stdout",
     "output_type": "stream",
     "text": [
      "반지름  3\n",
      "원 둘레  18.84955592153876\n",
      "원 면적  28.274333882308138\n"
     ]
    }
   ],
   "source": [
    "import math\n",
    "\n",
    "class Circle():\n",
    "    def __init__(self, radius) -> None:\n",
    "        self.__radius = radius\n",
    "    \n",
    "    def get_circumference(self):\n",
    "        return 2 * math.pi * self.__radius\n",
    "    \n",
    "    def get_circle_area(self):\n",
    "        return math.pi * (self.__radius ** 2)\n",
    "    # getter, setter\n",
    "    def get_radius(self):\n",
    "        return self.__radius\n",
    "    def set_radius(self, radius):\n",
    "        self.__radius = radius\n",
    "\n",
    "circle = Circle(3)\n",
    "# print(\"반지름 \", circle.__radius) : java의 private 개념\n",
    "print(\"반지름 \", circle.get_radius())\n",
    "print(\"원 둘레 \", circle.get_circumference())\n",
    "print(\"원 면적 \", circle.get_circle_area())"
   ]
  },
  {
   "cell_type": "code",
   "execution_count": null,
   "metadata": {},
   "outputs": [],
   "source": []
  }
 ],
 "metadata": {
  "kernelspec": {
   "display_name": "venv",
   "language": "python",
   "name": "python3"
  },
  "language_info": {
   "codemirror_mode": {
    "name": "ipython",
    "version": 3
   },
   "file_extension": ".py",
   "mimetype": "text/x-python",
   "name": "python",
   "nbconvert_exporter": "python",
   "pygments_lexer": "ipython3",
   "version": "3.12.3"
  }
 },
 "nbformat": 4,
 "nbformat_minor": 2
}
