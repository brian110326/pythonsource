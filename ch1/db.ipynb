{
 "cells": [
  {
   "cell_type": "code",
   "execution_count": 1,
   "metadata": {},
   "outputs": [
    {
     "name": "stdout",
     "output_type": "stream",
     "text": [
      "3.45.1\n",
      "2024-05-20 09:44:26.771525\n"
     ]
    }
   ],
   "source": [
    "import sqlite3\n",
    "from datetime import datetime\n",
    "\n",
    "print(sqlite3.sqlite_version)\n",
    "print(datetime.now())"
   ]
  },
  {
   "cell_type": "code",
   "execution_count": 2,
   "metadata": {},
   "outputs": [
    {
     "data": {
      "text/plain": [
       "'2024-05-20, 09:46:15'"
      ]
     },
     "execution_count": 2,
     "metadata": {},
     "output_type": "execute_result"
    }
   ],
   "source": [
    "now = datetime.now()\n",
    "now.strftime(\"%Y-%m-%d, %H:%M:%S\")"
   ]
  },
  {
   "cell_type": "code",
   "execution_count": 3,
   "metadata": {},
   "outputs": [],
   "source": [
    "# database 생성\n",
    "# isolation_level : autocommit 여부\n",
    "conn = sqlite3.connect(\"./database/test.db\", isolation_level=None)"
   ]
  },
  {
   "cell_type": "code",
   "execution_count": 4,
   "metadata": {},
   "outputs": [
    {
     "data": {
      "text/plain": [
       "<sqlite3.Cursor at 0x1ddce7e49c0>"
      ]
     },
     "execution_count": 4,
     "metadata": {},
     "output_type": "execute_result"
    }
   ],
   "source": [
    "# 커서(cursor)\n",
    "\n",
    "cursor = conn.cursor()\n",
    "cursor.execute(\"CREATE TABLE IF NOT EXISTS users(id integer primary key, username text, email text, phone text, website text, regdate text)\")"
   ]
  },
  {
   "cell_type": "code",
   "execution_count": 5,
   "metadata": {},
   "outputs": [
    {
     "data": {
      "text/plain": [
       "<sqlite3.Cursor at 0x1ddce7e49c0>"
      ]
     },
     "execution_count": 5,
     "metadata": {},
     "output_type": "execute_result"
    }
   ],
   "source": [
    "# 데이터 삽입\n",
    "now = datetime.now()\n",
    "now_date_time = now.strftime(\"%Y-%m-%d, %H:%M:%S\")\n",
    "cursor.execute(\"INSERT INTO users(id, username, email, phone, website, regdate) VALUES(1, 'Kim', 'Kim@naver.com', '010-1234-5678', 'kim.com', ?)\", (now_date_time,))"
   ]
  },
  {
   "cell_type": "code",
   "execution_count": 7,
   "metadata": {},
   "outputs": [
    {
     "data": {
      "text/plain": [
       "<sqlite3.Cursor at 0x1ddce7e49c0>"
      ]
     },
     "execution_count": 7,
     "metadata": {},
     "output_type": "execute_result"
    }
   ],
   "source": [
    "now = datetime.now()\n",
    "now_date_time = now.strftime(\"%Y-%m-%d, %H:%M:%S\")\n",
    "cursor.execute(\"INSERT INTO users(id, username, email, phone, website, regdate) VALUES(?,?,?,?,?,?)\", (2, 'Park', 'Park@naver.com', '010-1234-5678', 'Park.com', now_date_time))"
   ]
  },
  {
   "cell_type": "code",
   "execution_count": 8,
   "metadata": {},
   "outputs": [
    {
     "data": {
      "text/plain": [
       "<sqlite3.Cursor at 0x1ddce7e49c0>"
      ]
     },
     "execution_count": 8,
     "metadata": {},
     "output_type": "execute_result"
    }
   ],
   "source": [
    "# 여러개 데이터 삽입\n",
    "userList = (\n",
    "    (3, 'Lee', 'Lee@naver.com', '010-1234-5678', 'Lee.com', now_date_time),\n",
    "    (4, 'Choi', 'Choi@naver.com', '010-1234-5678', 'Choi.com', now_date_time),\n",
    "    (5, 'Yoo', 'Yoo@naver.com', '010-1234-5678', 'Yoo.com', now_date_time)\n",
    ")\n",
    "cursor.executemany(\"INSERT INTO users(id, username, email, phone, website, regdate) VALUES(?,?,?,?,?,?)\", userList)"
   ]
  },
  {
   "cell_type": "code",
   "execution_count": 9,
   "metadata": {},
   "outputs": [
    {
     "data": {
      "text/plain": [
       "<sqlite3.Cursor at 0x1ddce7e49c0>"
      ]
     },
     "execution_count": 9,
     "metadata": {},
     "output_type": "execute_result"
    }
   ],
   "source": [
    "# 조회\n",
    "cursor.execute(\"SELECT * FROM users\")"
   ]
  },
  {
   "cell_type": "code",
   "execution_count": 10,
   "metadata": {},
   "outputs": [
    {
     "data": {
      "text/plain": [
       "(1, 'Kim', 'Kim@naver.com', '010-1234-5678', 'kim.com', '2024-05-20, 10:00:25')"
      ]
     },
     "execution_count": 10,
     "metadata": {},
     "output_type": "execute_result"
    }
   ],
   "source": [
    "cursor.fetchone()"
   ]
  },
  {
   "cell_type": "code",
   "execution_count": 12,
   "metadata": {},
   "outputs": [
    {
     "data": {
      "text/plain": [
       "[(3,\n",
       "  'Lee',\n",
       "  'Lee@naver.com',\n",
       "  '010-1234-5678',\n",
       "  'Lee.com',\n",
       "  '2024-05-20, 10:02:35'),\n",
       " (4,\n",
       "  'Choi',\n",
       "  'Choi@naver.com',\n",
       "  '010-1234-5678',\n",
       "  'Choi.com',\n",
       "  '2024-05-20, 10:02:35'),\n",
       " (5,\n",
       "  'Yoo',\n",
       "  'Yoo@naver.com',\n",
       "  '010-1234-5678',\n",
       "  'Yoo.com',\n",
       "  '2024-05-20, 10:02:35')]"
      ]
     },
     "execution_count": 12,
     "metadata": {},
     "output_type": "execute_result"
    }
   ],
   "source": [
    "cursor.fetchmany(size=3)"
   ]
  },
  {
   "cell_type": "code",
   "execution_count": 13,
   "metadata": {},
   "outputs": [
    {
     "data": {
      "text/plain": [
       "[]"
      ]
     },
     "execution_count": 13,
     "metadata": {},
     "output_type": "execute_result"
    }
   ],
   "source": [
    "# 남아있는 것(위에 조회한거 외에 나머지)\n",
    "cursor.fetchall()"
   ]
  },
  {
   "cell_type": "code",
   "execution_count": 14,
   "metadata": {},
   "outputs": [
    {
     "name": "stdout",
     "output_type": "stream",
     "text": [
      "(1, 'Kim', 'Kim@naver.com', '010-1234-5678', 'kim.com', '2024-05-20, 10:00:25')\n",
      "(2, 'Park', 'Park@naver.com', '010-1234-5678', 'Park.com', '2024-05-20, 10:02:35')\n",
      "(3, 'Lee', 'Lee@naver.com', '010-1234-5678', 'Lee.com', '2024-05-20, 10:02:35')\n",
      "(4, 'Choi', 'Choi@naver.com', '010-1234-5678', 'Choi.com', '2024-05-20, 10:02:35')\n",
      "(5, 'Yoo', 'Yoo@naver.com', '010-1234-5678', 'Yoo.com', '2024-05-20, 10:02:35')\n"
     ]
    }
   ],
   "source": [
    "cursor.execute(\"SELECT * FROM users\")\n",
    "for c in cursor.fetchall():\n",
    "    print(c)"
   ]
  },
  {
   "cell_type": "code",
   "execution_count": 15,
   "metadata": {},
   "outputs": [
    {
     "name": "stdout",
     "output_type": "stream",
     "text": [
      "(5, 'Yoo', 'Yoo@naver.com', '010-1234-5678', 'Yoo.com', '2024-05-20, 10:02:35')\n",
      "(4, 'Choi', 'Choi@naver.com', '010-1234-5678', 'Choi.com', '2024-05-20, 10:02:35')\n",
      "(3, 'Lee', 'Lee@naver.com', '010-1234-5678', 'Lee.com', '2024-05-20, 10:02:35')\n",
      "(2, 'Park', 'Park@naver.com', '010-1234-5678', 'Park.com', '2024-05-20, 10:02:35')\n",
      "(1, 'Kim', 'Kim@naver.com', '010-1234-5678', 'kim.com', '2024-05-20, 10:00:25')\n"
     ]
    }
   ],
   "source": [
    "# 정렬(ORDER BY)\n",
    "cursor.execute(\"SELECT * FROM users ORDER BY id DESC\")\n",
    "for c in cursor.fetchall():\n",
    "    print(c)"
   ]
  },
  {
   "cell_type": "code",
   "execution_count": 16,
   "metadata": {},
   "outputs": [
    {
     "data": {
      "text/plain": [
       "(3, 'Lee', 'Lee@naver.com', '010-1234-5678', 'Lee.com', '2024-05-20, 10:02:35')"
      ]
     },
     "execution_count": 16,
     "metadata": {},
     "output_type": "execute_result"
    }
   ],
   "source": [
    "cursor.execute(\"SELECT * FROM users WHERE id=3\")\n",
    "cursor.fetchone()"
   ]
  },
  {
   "cell_type": "code",
   "execution_count": 17,
   "metadata": {},
   "outputs": [
    {
     "data": {
      "text/plain": [
       "(4,\n",
       " 'Choi',\n",
       " 'Choi@naver.com',\n",
       " '010-1234-5678',\n",
       " 'Choi.com',\n",
       " '2024-05-20, 10:02:35')"
      ]
     },
     "execution_count": 17,
     "metadata": {},
     "output_type": "execute_result"
    }
   ],
   "source": [
    "param = (4,)\n",
    "cursor.execute(\"SELECT * FROM users WHERE id=?\",param)\n",
    "cursor.fetchone()"
   ]
  },
  {
   "cell_type": "code",
   "execution_count": 20,
   "metadata": {},
   "outputs": [
    {
     "data": {
      "text/plain": [
       "(2,\n",
       " 'Park',\n",
       " 'Park@naver.com',\n",
       " '010-1234-5678',\n",
       " 'Park.com',\n",
       " '2024-05-20, 10:02:35')"
      ]
     },
     "execution_count": 20,
     "metadata": {},
     "output_type": "execute_result"
    }
   ],
   "source": [
    "param = 2\n",
    "cursor.execute(\"SELECT * FROM users WHERE id=%d\" %param)\n",
    "cursor.fetchone()"
   ]
  },
  {
   "cell_type": "code",
   "execution_count": 22,
   "metadata": {},
   "outputs": [
    {
     "data": {
      "text/plain": [
       "(5, 'Yoo', 'Yoo@naver.com', '010-1234-5678', 'Yoo.com', '2024-05-20, 10:02:35')"
      ]
     },
     "execution_count": 22,
     "metadata": {},
     "output_type": "execute_result"
    }
   ],
   "source": [
    "# dictionary 구조로 넘겨주기\n",
    "cursor.execute(\"SELECT * FROM users WHERE id=:id\", {\"id\":5})\n",
    "cursor.fetchone()"
   ]
  },
  {
   "cell_type": "code",
   "execution_count": 23,
   "metadata": {},
   "outputs": [
    {
     "data": {
      "text/plain": [
       "[(2,\n",
       "  'Park',\n",
       "  'Park@naver.com',\n",
       "  '010-1234-5678',\n",
       "  'Park.com',\n",
       "  '2024-05-20, 10:02:35'),\n",
       " (4,\n",
       "  'Choi',\n",
       "  'Choi@naver.com',\n",
       "  '010-1234-5678',\n",
       "  'Choi.com',\n",
       "  '2024-05-20, 10:02:35')]"
      ]
     },
     "execution_count": 23,
     "metadata": {},
     "output_type": "execute_result"
    }
   ],
   "source": [
    "param = (2,4)\n",
    "cursor.execute(\"SELECT * FROM users WHERE id IN (?,?)\" ,param)\n",
    "cursor.fetchall()"
   ]
  },
  {
   "cell_type": "code",
   "execution_count": 24,
   "metadata": {},
   "outputs": [],
   "source": [
    "# 수정 : id가 2번인 사용자의 핸드폰 번호 변경\n",
    "param = (\"010-9834-4857\",2)\n",
    "cursor.execute(\"UPDATE users SET phone = ? WHERE id = ?\", param)\n",
    "conn.commit()"
   ]
  },
  {
   "cell_type": "code",
   "execution_count": 25,
   "metadata": {},
   "outputs": [],
   "source": [
    "# 삭제\n",
    "cursor.execute(\"DELETE FROM users WHERE id = ?\",(2,))\n",
    "conn.commit()"
   ]
  },
  {
   "cell_type": "code",
   "execution_count": 26,
   "metadata": {},
   "outputs": [],
   "source": [
    "# rowcount : 삭제된 행의 개수를 반환\n",
    "cursor.execute(\"DELETE FROM users\").rowcount\n",
    "conn.commit()"
   ]
  },
  {
   "cell_type": "code",
   "execution_count": null,
   "metadata": {},
   "outputs": [],
   "source": [
    "import random\n",
    "import time\n"
   ]
  }
 ],
 "metadata": {
  "kernelspec": {
   "display_name": "venv",
   "language": "python",
   "name": "python3"
  },
  "language_info": {
   "codemirror_mode": {
    "name": "ipython",
    "version": 3
   },
   "file_extension": ".py",
   "mimetype": "text/x-python",
   "name": "python",
   "nbconvert_exporter": "python",
   "pygments_lexer": "ipython3",
   "version": "3.12.3"
  }
 },
 "nbformat": 4,
 "nbformat_minor": 2
}
