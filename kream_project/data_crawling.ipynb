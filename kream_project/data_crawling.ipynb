{
 "cells": [
  {
   "cell_type": "markdown",
   "metadata": {},
   "source": [
    "# Data Crawling"
   ]
  },
  {
   "cell_type": "code",
   "execution_count": 1,
   "metadata": {},
   "outputs": [],
   "source": [
    "import pandas as pd\n",
    "import numpy as np\n",
    "import matplotlib.pyplot as plt\n",
    "import seaborn as sns"
   ]
  },
  {
   "cell_type": "code",
   "execution_count": 7,
   "metadata": {},
   "outputs": [],
   "source": [
    "from selenium import webdriver\n",
    "from selenium.webdriver import ChromeOptions\n",
    "from selenium.webdriver.chrome.service import Service\n",
    "from webdriver_manager.chrome import ChromeDriverManager\n",
    "from selenium.webdriver.common.keys import Keys\n",
    "from selenium.webdriver.common.by import By\n",
    "from selenium.webdriver.common.action_chains import ActionChains\n",
    "from selenium.webdriver.support.ui import WebDriverWait\n",
    "from selenium.webdriver.support import expected_conditions as EC\n",
    "from selenium.common.exceptions import TimeoutException\n",
    "\n",
    "from bs4 import BeautifulSoup\n",
    "import time"
   ]
  },
  {
   "cell_type": "code",
   "execution_count": 4,
   "metadata": {},
   "outputs": [],
   "source": [
    "def set_chrome_driver():\n",
    "    options = ChromeOptions()\n",
    "    options.add_argument(\"--start-maximized\")\n",
    "    driver = webdriver.Chrome(service=Service(ChromeDriverManager().install()), options=options)\n",
    "    return driver"
   ]
  },
  {
   "cell_type": "markdown",
   "metadata": {},
   "source": [
    "## 솔드아웃 상품 목록, 상세 정보 Crawling"
   ]
  },
  {
   "cell_type": "code",
   "execution_count": 96,
   "metadata": {},
   "outputs": [
    {
     "name": "stdout",
     "output_type": "stream",
     "text": [
      "https://www.soldout.co.kr/trade/detail/5534466 Carhartt Loose Fit Heavyweight Short-Sleeve Pocket Regular T-Shirt Black K87-BLK - 블랙 $19\n",
      "https://www.soldout.co.kr/trade/detail/5540084 Stussy Basic Stussy T-Shirt Black (2024) 1905000 (black) - 블랙 68,000원\n",
      "https://www.soldout.co.kr/trade/detail/3333 Nike Air Force 1 Low '07 White 315122-111/CW2288-111 2018.01.02 화이트 139,000원\n"
     ]
    }
   ],
   "source": [
    "# 솔드아웃 상품 목록, 상세 정보 crawling\n",
    "browser = set_chrome_driver()\n",
    "result = []\n",
    "\n",
    "base_url = \"https://www.soldout.co.kr\"\n",
    "url_soldout = base_url + \"/search/product/list\"\n",
    "browser.get(url=url_soldout)\n",
    "\n",
    "# 스크롤 내리기\n",
    "interval = 4\n",
    "prev_height = browser.execute_script(\"return document.body.scrollHeight\")\n",
    "\n",
    "while True:\n",
    "    browser.execute_script(\"window.scrollTo(0,document.body.scrollHeight)\")\n",
    "    time.sleep(interval)\n",
    "    cur_height = browser.execute_script(\"return document.body.scrollHeight\")\n",
    "\n",
    "    if cur_height == prev_height:\n",
    "        break\n",
    "\n",
    "    prev_height = cur_height\n",
    "\n",
    "time.sleep(4)\n",
    "\n",
    "soup = BeautifulSoup(browser.page_source, \"lxml\")\n",
    "\n",
    "products = soup.find_all(\"div\", class_=\"product-item\")\n",
    "\n",
    "# 상품 목록 페이지에서 데이터 crawling\n",
    "for info in products[:3]:\n",
    "    # 상품 한글명\n",
    "    name_kor = info.find(\"p\", class_=\"product-name\").text\n",
    "    # 브랜드명\n",
    "    brand = info.find(\"span\", class_=\"brand-logo__text\").text\n",
    "    # 이미지 주소\n",
    "    img_tag = info.find(\"img\")\n",
    "    img_url = img_tag[\"src\"]\n",
    "    # 상세페이지 주소\n",
    "    product_detail_tag = info.find(\"a\",class_=\"link-for-seo\")\n",
    "    # https://www.soldout.co.kr/trade/detail/5534466\n",
    "    product_detail_url = base_url + product_detail_tag[\"href\"]\n",
    "\n",
    "    # 상품 상세 페이지에서 데이터 crawling\n",
    "    product_detail_url_list = []\n",
    "    product_detail_url_list.append(product_detail_url)\n",
    "\n",
    "    for url in product_detail_url_list:\n",
    "        browser.get(url=url)\n",
    "\n",
    "        # 스크롤 내리기\n",
    "        interval = 3\n",
    "        prev_height = browser.execute_script(\"return document.body.scrollHeight\")\n",
    "\n",
    "        while True:\n",
    "            browser.execute_script(\"window.scrollTo(0,document.body.scrollHeight)\")\n",
    "            time.sleep(interval)\n",
    "            cur_height = browser.execute_script(\"return document.body.scrollHeight\")\n",
    "\n",
    "            if cur_height == prev_height:\n",
    "                break\n",
    "\n",
    "            prev_height = cur_height\n",
    "\n",
    "        time.sleep(2)\n",
    "\n",
    "        soup = BeautifulSoup(browser.page_source, \"lxml\")\n",
    "       \n",
    "        # 상품 영어명\n",
    "        name_eng = soup.select_one(\"#__layout > div > div.layout-container > div > div.item-container__in > div.container-right > div.item_info__wrap > p\")\n",
    "        # 모델번호\n",
    "        model_no = soup.select_one(\"#__layout > div > div.layout-container > div > div.item-container__in > div.container-right > div:nth-child(8) > dl:nth-child(3) > dd\")\n",
    "        # 출시일(DataFrame에서 날짜형태로 바꾸기)\n",
    "        release_date = soup.select_one(\"#__layout > div > div.layout-container > div > div.item-container__in > div.container-right > div:nth-child(8) > dl:nth-child(4) > dd\")\n",
    "        # 색상\n",
    "        color = soup.select_one(\"#__layout > div > div.layout-container > div > div.item-container__in > div.container-right > div:nth-child(8) > dl.product-info__dl.color > dd\")\n",
    "        # 원래 가격(\"원\" 제거 후 DataFrame에서 int형으로 바꾸기)\n",
    "        original_price = soup.select_one(\"#__layout > div > div.layout-container > div > div.item-container__in > div.container-right > div:nth-child(8) > dl:nth-child(6) > dd\")\n",
    "\n",
    "        if name_eng and model_no and release_date and color and original_price:\n",
    "            name_eng = name_eng.text\n",
    "            model_no = model_no.text\n",
    "            release_date = release_date.text\n",
    "            color = color.text\n",
    "            original_price = original_price.text\n",
    "        else:\n",
    "            name_eng = np.nan\n",
    "            model_no = np.nan\n",
    "            release_date = np.nan\n",
    "            color = np.nan\n",
    "            original_price = np.nan\n",
    "\n",
    "        print(url,name_eng, model_no, release_date, color, original_price)\n",
    "\n",
    "    result.append([brand, name_kor, name_eng, model_no, release_date, color, original_price, img_url, product_detail_url])\n",
    "\n",
    "# 1차 test : 2736개 7분 43초(사이트 계속 크롤링하는 동안 냅두기)\n",
    "# print(len(result))"
   ]
  },
  {
   "cell_type": "markdown",
   "metadata": {},
   "source": [
    "### 솔드아웃 거래내역 Crawling"
   ]
  },
  {
   "cell_type": "code",
   "execution_count": 100,
   "metadata": {},
   "outputs": [],
   "source": [
    "# 솔드아웃 로그인\n",
    "browser = set_chrome_driver()\n",
    "browser.get(url_soldout)\n",
    "\n",
    "login_button = browser.find_element(By.XPATH, '//*[@id=\"__layout\"]/div/div[1]/header/div/ul/li[1]/a')\n",
    "login_button.click()\n",
    "\n",
    "id_input = browser.find_element(By.CSS_SELECTOR, \"#__layout > div > div.layout-container > div > form > div:nth-child(1) > div > input\")\n",
    "id_input.send_keys(\"uj05273\")\n",
    "\n",
    "pwd_input = browser.find_element(By.CSS_SELECTOR, \"#__layout > div > div.layout-container > div > form > div:nth-child(2) > div > input\")\n",
    "pwd_input.send_keys(\"brian981103\")\n",
    "\n",
    "signin_button = browser.find_element(By.CLASS_NAME, \"btn-primary\")\n",
    "signin_button.click()\n",
    "\n",
    "time.sleep(2)\n",
    "\n",
    "# 거래내역 crawling\n",
    "for url in product_detail_url_list[:2]:\n",
    "    browser.get(url=url)\n",
    "\n",
    "    # 스크롤 내리기\n",
    "    interval = 3\n",
    "    prev_height = browser.execute_script(\"return document.body.scrollHeight\")\n",
    "\n",
    "    while True:\n",
    "        browser.execute_script(\"window.scrollTo(0,document.body.scrollHeight)\")\n",
    "        time.sleep(interval)\n",
    "        cur_height = browser.execute_script(\"return document.body.scrollHeight\")\n",
    "\n",
    "        if cur_height == prev_height:\n",
    "            break\n",
    "\n",
    "        prev_height = cur_height\n",
    "\n",
    "    time.sleep(2)\n",
    "\n",
    "    # 거래내역 전체보기 버튼 클릭\n",
    "    view_all_btn = browser.find_element(By.CLASS_NAME, \"btn-show-all\")\n",
    "    view_all_btn.click()\n",
    "\n",
    "    time.sleep(3)\n",
    "\n",
    "    # 마우스를 중앙으로 옮기기 -> 스크롤 끝까지 내리기 -> 거래내역 데이터 크롤링 -> X버튼으로 나가기 -> 뒤로가기 버튼\n",
    "    "
   ]
  },
  {
   "cell_type": "code",
   "execution_count": null,
   "metadata": {},
   "outputs": [],
   "source": []
  }
 ],
 "metadata": {
  "kernelspec": {
   "display_name": "venv",
   "language": "python",
   "name": "python3"
  },
  "language_info": {
   "codemirror_mode": {
    "name": "ipython",
    "version": 3
   },
   "file_extension": ".py",
   "mimetype": "text/x-python",
   "name": "python",
   "nbconvert_exporter": "python",
   "pygments_lexer": "ipython3",
   "version": "3.12.4"
  }
 },
 "nbformat": 4,
 "nbformat_minor": 2
}
