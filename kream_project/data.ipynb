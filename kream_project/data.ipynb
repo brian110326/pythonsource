{
 "cells": [
  {
   "cell_type": "code",
   "execution_count": 1,
   "metadata": {},
   "outputs": [],
   "source": [
    "import sqlite3\n",
    "from datetime import datetime"
   ]
  },
  {
   "cell_type": "code",
   "execution_count": 2,
   "metadata": {},
   "outputs": [],
   "source": [
    "# database 생성\n",
    "# isolation_level : autocommit 여부\n",
    "conn = sqlite3.connect(\"C:\\\\source\\\\pythonsource\\\\django\\\\kream\\\\db.sqlite3\", isolation_level=None)"
   ]
  },
  {
   "cell_type": "code",
   "execution_count": 3,
   "metadata": {},
   "outputs": [],
   "source": [
    "cursor = conn.cursor()"
   ]
  },
  {
   "cell_type": "code",
   "execution_count": 8,
   "metadata": {},
   "outputs": [],
   "source": [
    "# 모든 데이터 삭제\n",
    "cursor.execute('DELETE FROM kream_product')\n",
    "cursor.execute('DELETE FROM kream_trade_total')\n",
    "\n",
    "# 변경사항 저장\n",
    "conn.commit()"
   ]
  },
  {
   "cell_type": "code",
   "execution_count": 10,
   "metadata": {},
   "outputs": [
    {
     "data": {
      "text/plain": [
       "<sqlite3.Cursor at 0x13d3185da40>"
      ]
     },
     "execution_count": 10,
     "metadata": {},
     "output_type": "execute_result"
    }
   ],
   "source": [
    "cursor.execute('UPDATE sqlite_sequence SET seq = 0 WHERE name = \"kream_product\"')"
   ]
  },
  {
   "cell_type": "code",
   "execution_count": 11,
   "metadata": {},
   "outputs": [],
   "source": [
    "from openpyxl import load_workbook\n",
    "wb = load_workbook(\"./clean_data/soldout_clean_product2.xlsx\")\n",
    "\n",
    "# work sheet 가져오기\n",
    "ws = wb.active"
   ]
  },
  {
   "cell_type": "code",
   "execution_count": 12,
   "metadata": {},
   "outputs": [],
   "source": [
    "product_id_map = {}  # 제품 이름을 키로, 생성된 product_id를 값으로 저장\n",
    "for row in ws.iter_rows(min_row=2, values_only=True):  # 첫 번째 행은 헤더라서 제외\n",
    "    cursor.execute('''\n",
    "        INSERT INTO kream_product (brand, name_kor, name_eng, model_no, release_date, color, img_url, product_detail_url, original_price)\n",
    "        VALUES (?,?,?,?,?,?,?,?,?)\n",
    "    ''',(row[0],row[1],row[2],row[3],row[4],row[5],row[7],row[8],row[6]))\n",
    "\n",
    "conn.commit()\n",
    "\n",
    "# Product 테이블에서 모든 제품 이름과 ID를 가져와서 매핑\n",
    "cursor.execute('SELECT id, name_kor FROM kream_product')\n",
    "product_id_map = {row[1]: row[0] for row in cursor.fetchall()}"
   ]
  },
  {
   "cell_type": "code",
   "execution_count": null,
   "metadata": {},
   "outputs": [],
   "source": []
  },
  {
   "cell_type": "code",
   "execution_count": 4,
   "metadata": {},
   "outputs": [],
   "source": [
    "# # 모든 데이터 삭제\n",
    "# cursor.execute('DELETE FROM kream_product')\n",
    "\n",
    "# # 변경사항 저장\n",
    "# conn.commit()\n",
    "\n",
    "# # 데이터베이스 연결 종료\n",
    "# conn.close()"
   ]
  },
  {
   "cell_type": "code",
   "execution_count": 13,
   "metadata": {},
   "outputs": [],
   "source": [
    "from openpyxl import load_workbook\n",
    "wb = load_workbook(\"./clean_data/trade.xlsx\")\n",
    "\n",
    "# work sheet 가져오기\n",
    "ws = wb.active"
   ]
  },
  {
   "cell_type": "code",
   "execution_count": 14,
   "metadata": {},
   "outputs": [],
   "source": [
    "for row in ws.iter_rows(min_row=2, values_only=True):  # 첫 번째 행은 헤더라서 제외\n",
    "    name_kor = row[0]  # 거래 데이터에서 제품 이름\n",
    "    product_id = product_id_map.get(name_kor)\n",
    "    cursor.execute('''\n",
    "        INSERT INTO kream_trade_total (trade_size,trade_price,trade_year,trade_month,trade_hour,product_id)\n",
    "        VALUES (?,?,?,?,?,?)\n",
    "    ''', (row[2],row[3],row[6],row[7],row[8],product_id))\n",
    "\n",
    "# 변경사항 저장\n",
    "conn.commit()\n",
    "\n"
   ]
  },
  {
   "cell_type": "code",
   "execution_count": 9,
   "metadata": {},
   "outputs": [],
   "source": [
    "# 변경할 행 업데이트\n",
    "update_query = '''\n",
    "UPDATE kream_trade_total\n",
    "SET product_id = 214\n",
    "WHERE product_id = 1560;\n",
    "'''\n",
    "cursor.execute(update_query)\n",
    "\n",
    "# 변경 내용 커밋\n",
    "conn.commit()"
   ]
  },
  {
   "cell_type": "code",
   "execution_count": 8,
   "metadata": {},
   "outputs": [
    {
     "data": {
      "text/plain": [
       "<sqlite3.Cursor at 0x247d2751f40>"
      ]
     },
     "execution_count": 8,
     "metadata": {},
     "output_type": "execute_result"
    }
   ],
   "source": [
    "query = '''\n",
    "SELECT * FROM kream_trade_total\n",
    "WHERE id IS NULL;\n",
    "'''\n",
    "cursor.execute(query)"
   ]
  },
  {
   "cell_type": "code",
   "execution_count": null,
   "metadata": {},
   "outputs": [],
   "source": []
  }
 ],
 "metadata": {
  "kernelspec": {
   "display_name": "venv",
   "language": "python",
   "name": "python3"
  },
  "language_info": {
   "codemirror_mode": {
    "name": "ipython",
    "version": 3
   },
   "file_extension": ".py",
   "mimetype": "text/x-python",
   "name": "python",
   "nbconvert_exporter": "python",
   "pygments_lexer": "ipython3",
   "version": "3.12.4"
  }
 },
 "nbformat": 4,
 "nbformat_minor": 2
}
